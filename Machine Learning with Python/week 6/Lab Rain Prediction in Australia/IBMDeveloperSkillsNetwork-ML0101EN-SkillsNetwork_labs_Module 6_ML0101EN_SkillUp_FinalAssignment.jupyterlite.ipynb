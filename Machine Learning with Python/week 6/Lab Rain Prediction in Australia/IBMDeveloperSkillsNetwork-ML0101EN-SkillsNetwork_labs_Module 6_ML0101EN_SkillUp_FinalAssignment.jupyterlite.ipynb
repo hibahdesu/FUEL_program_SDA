{
  "metadata": {
    "language_info": {
      "codemirror_mode": {
        "name": "python",
        "version": 3
      },
      "file_extension": ".py",
      "mimetype": "text/x-python",
      "name": "python",
      "nbconvert_exporter": "python",
      "pygments_lexer": "ipython3",
      "version": "3.8"
    },
    "kernelspec": {
      "name": "python",
      "display_name": "Python (Pyodide)",
      "language": "python"
    }
  },
  "nbformat_minor": 4,
  "nbformat": 4,
  "cells": [
    {
      "cell_type": "markdown",
      "source": "<p style=\"text-align:center\">\n    <a href=\"https://skills.network/?utm_medium=Exinfluencer&utm_source=Exinfluencer&utm_content=000026UJ&utm_term=10006555&utm_id=NA-SkillsNetwork-Channel-SkillsNetworkCoursesIBMDeveloperSkillsNetworkML0101ENSkillsNetwork20718538-2022-01-01\" target=\"_blank\">\n    <img src=\"https://cf-courses-data.s3.us.cloud-object-storage.appdomain.cloud/assets/logos/SN_web_lightmode.png\" width=\"200\" alt=\"Skills Network Logo\">\n    </a>\n</p>\n\n<h1 align=\"center\"><font size=\"5\">Final Project: Classification with Python</font></h1>\n",
      "metadata": {}
    },
    {
      "cell_type": "markdown",
      "source": "<h2>Table of Contents</h2>\n<div class=\"alert alert-block alert-info\" style=\"margin-top: 20px\">\n    <ul>\n    <li><a href=\"https://#Section_1\">Instructions</a></li>\n    <li><a href=\"https://#Section_2\">About the Data</a></li>\n    <li><a href=\"https://#Section_3\">Importing Data </a></li>\n    <li><a href=\"https://#Section_4\">Data Preprocessing</a> </li>\n    <li><a href=\"https://#Section_5\">One Hot Encoding </a></li>\n    <li><a href=\"https://#Section_6\">Train and Test Data Split </a></li>\n    <li><a href=\"https://#Section_7\">Train Logistic Regression, KNN, Decision Tree, SVM, and Linear Regression models and return their appropriate accuracy scores</a></li>\n</a></li>\n</div>\n<p>Estimated Time Needed: <strong>180 min</strong></p>\n</div>\n\n<hr>\n",
      "metadata": {}
    },
    {
      "cell_type": "markdown",
      "source": "# Instructions\n",
      "metadata": {}
    },
    {
      "cell_type": "markdown",
      "source": "In this notebook, you will  practice all the classification algorithms that we have learned in this course.\n\n\nBelow, is where we are going to use the classification algorithms to create a model based on our training data and evaluate our testing data using evaluation metrics learned in the course.\n\nWe will use some of the algorithms taught in the course, specifically:\n\n1. Linear Regression\n2. KNN\n3. Decision Trees\n4. Logistic Regression\n5. SVM\n\nWe will evaluate our models using:\n\n1.  Accuracy Score\n2.  Jaccard Index\n3.  F1-Score\n4.  LogLoss\n5.  Mean Absolute Error\n6.  Mean Squared Error\n7.  R2-Score\n\nFinally, you will use your models to generate the report at the end. \n",
      "metadata": {}
    },
    {
      "cell_type": "markdown",
      "source": "# About The Dataset\n",
      "metadata": {}
    },
    {
      "cell_type": "markdown",
      "source": "The original source of the data is Australian Government's Bureau of Meteorology and the latest data can be gathered from [http://www.bom.gov.au/climate/dwo/](http://www.bom.gov.au/climate/dwo/?utm_medium=Exinfluencer&utm_source=Exinfluencer&utm_content=000026UJ&utm_term=10006555&utm_id=NA-SkillsNetwork-Channel-SkillsNetworkCoursesIBMDeveloperSkillsNetworkML0101ENSkillsNetwork20718538-2022-01-01).\n\nThe dataset to be used has extra columns like 'RainToday' and our target is 'RainTomorrow', which was gathered from the Rattle at [https://bitbucket.org/kayontoga/rattle/src/master/data/weatherAUS.RData](https://bitbucket.org/kayontoga/rattle/src/master/data/weatherAUS.RData?utm_medium=Exinfluencer&utm_source=Exinfluencer&utm_content=000026UJ&utm_term=10006555&utm_id=NA-SkillsNetwork-Channel-SkillsNetworkCoursesIBMDeveloperSkillsNetworkML0101ENSkillsNetwork20718538-2022-01-01)\n\n\n",
      "metadata": {}
    },
    {
      "cell_type": "markdown",
      "source": "This dataset contains observations of weather metrics for each day from 2008 to 2017. The **weatherAUS.csv** dataset includes the following fields:\n\n| Field         | Description                                           | Unit            | Type   |\n| ------------- | ----------------------------------------------------- | --------------- | ------ |\n| Date          | Date of the Observation in YYYY-MM-DD                 | Date            | object |\n| Location      | Location of the Observation                           | Location        | object |\n| MinTemp       | Minimum temperature                                   | Celsius         | float  |\n| MaxTemp       | Maximum temperature                                   | Celsius         | float  |\n| Rainfall      | Amount of rainfall                                    | Millimeters     | float  |\n| Evaporation   | Amount of evaporation                                 | Millimeters     | float  |\n| Sunshine      | Amount of bright sunshine                             | hours           | float  |\n| WindGustDir   | Direction of the strongest gust                       | Compass Points  | object |\n| WindGustSpeed | Speed of the strongest gust                           | Kilometers/Hour | object |\n| WindDir9am    | Wind direction averaged of 10 minutes prior to 9am    | Compass Points  | object |\n| WindDir3pm    | Wind direction averaged of 10 minutes prior to 3pm    | Compass Points  | object |\n| WindSpeed9am  | Wind speed averaged of 10 minutes prior to 9am        | Kilometers/Hour | float  |\n| WindSpeed3pm  | Wind speed averaged of 10 minutes prior to 3pm        | Kilometers/Hour | float  |\n| Humidity9am   | Humidity at 9am                                       | Percent         | float  |\n| Humidity3pm   | Humidity at 3pm                                       | Percent         | float  |\n| Pressure9am   | Atmospheric pressure reduced to mean sea level at 9am | Hectopascal     | float  |\n| Pressure3pm   | Atmospheric pressure reduced to mean sea level at 3pm | Hectopascal     | float  |\n| Cloud9am      | Fraction of the sky obscured by cloud at 9am          | Eights          | float  |\n| Cloud3pm      | Fraction of the sky obscured by cloud at 3pm          | Eights          | float  |\n| Temp9am       | Temperature at 9am                                    | Celsius         | float  |\n| Temp3pm       | Temperature at 3pm                                    | Celsius         | float  |\n| RainToday     | If there was rain today                               | Yes/No          | object |\n| RainTomorrow  | If there is rain tomorrow                             | Yes/No          | float  |\n\nColumn definitions were gathered from [http://www.bom.gov.au/climate/dwo/IDCJDW0000.shtml](http://www.bom.gov.au/climate/dwo/IDCJDW0000.shtml?utm_medium=Exinfluencer&utm_source=Exinfluencer&utm_content=000026UJ&utm_term=10006555&utm_id=NA-SkillsNetwork-Channel-SkillsNetworkCoursesIBMDeveloperSkillsNetworkML0101ENSkillsNetwork20718538-2022-01-01)\n\n",
      "metadata": {}
    },
    {
      "cell_type": "markdown",
      "source": "## **Import the required libraries**\n",
      "metadata": {}
    },
    {
      "cell_type": "code",
      "source": "# All Libraries required for this lab are listed below. The libraries pre-installed on Skills Network Labs are commented.\n# !mamba install -qy pandas==1.3.4 numpy==1.21.4 seaborn==0.9.0 matplotlib==3.5.0 scikit-learn==0.20.1\n# Note: If your environment doesn't support \"!mamba install\", use \"!pip install\"",
      "metadata": {},
      "execution_count": null,
      "outputs": []
    },
    {
      "cell_type": "code",
      "source": "# Surpress warnings:\ndef warn(*args, **kwargs):\n    pass\nimport warnings\nwarnings.warn = warn",
      "metadata": {
        "trusted": true
      },
      "execution_count": 1,
      "outputs": []
    },
    {
      "cell_type": "code",
      "source": "#you are running the lab in your  browser, so we will install the libraries using ``piplite``\nimport piplite\nawait piplite.install(['pandas'])\nawait piplite.install(['numpy'])\n",
      "metadata": {
        "trusted": true
      },
      "execution_count": 2,
      "outputs": []
    },
    {
      "cell_type": "code",
      "source": "import pandas as pd\nfrom sklearn.linear_model import LogisticRegression\nfrom sklearn.linear_model import LinearRegression\nfrom sklearn import preprocessing\nimport numpy as np\nfrom sklearn.neighbors import KNeighborsClassifier\nfrom sklearn.model_selection import train_test_split\nfrom sklearn.neighbors import KNeighborsClassifier\nfrom sklearn.tree import DecisionTreeClassifier\nfrom sklearn import svm\nfrom sklearn.metrics import jaccard_score\nfrom sklearn.metrics import f1_score\nfrom sklearn.metrics import log_loss\nfrom sklearn.metrics import confusion_matrix, accuracy_score\nimport sklearn.metrics as metrics",
      "metadata": {
        "trusted": true
      },
      "execution_count": 3,
      "outputs": []
    },
    {
      "cell_type": "markdown",
      "source": "### Importing the Dataset\n",
      "metadata": {}
    },
    {
      "cell_type": "code",
      "source": "from pyodide.http import pyfetch\n\nasync def download(url, filename):\n    response = await pyfetch(url)\n    if response.status == 200:\n        with open(filename, \"wb\") as f:\n            f.write(await response.bytes())",
      "metadata": {
        "trusted": true
      },
      "execution_count": 4,
      "outputs": []
    },
    {
      "cell_type": "code",
      "source": "path='https://cf-courses-data.s3.us.cloud-object-storage.appdomain.cloud/IBMDeveloperSkillsNetwork-ML0101EN-SkillUp/labs/ML-FinalAssignment/Weather_Data.csv'",
      "metadata": {
        "trusted": true
      },
      "execution_count": 5,
      "outputs": []
    },
    {
      "cell_type": "code",
      "source": "await download(path, \"Weather_Data.csv\")\nfilename =\"Weather_Data.csv\"",
      "metadata": {
        "trusted": true
      },
      "execution_count": 6,
      "outputs": []
    },
    {
      "cell_type": "code",
      "source": "df = pd.read_csv(\"Weather_Data.csv\")\ndf.head()",
      "metadata": {
        "trusted": true
      },
      "execution_count": 7,
      "outputs": [
        {
          "execution_count": 7,
          "output_type": "execute_result",
          "data": {
            "text/plain": "       Date  MinTemp  MaxTemp  Rainfall  Evaporation  Sunshine WindGustDir  \\\n0  2/1/2008     19.5     22.4      15.6          6.2       0.0           W   \n1  2/2/2008     19.5     25.6       6.0          3.4       2.7           W   \n2  2/3/2008     21.6     24.5       6.6          2.4       0.1           W   \n3  2/4/2008     20.2     22.8      18.8          2.2       0.0           W   \n4  2/5/2008     19.7     25.7      77.4          4.8       0.0           W   \n\n   WindGustSpeed WindDir9am WindDir3pm  ...  Humidity9am  Humidity3pm  \\\n0             41          S        SSW  ...           92           84   \n1             41          W          E  ...           83           73   \n2             41        ESE        ESE  ...           88           86   \n3             41        NNE          E  ...           83           90   \n4             41        NNE          W  ...           88           74   \n\n   Pressure9am  Pressure3pm  Cloud9am  Cloud3pm  Temp9am  Temp3pm  RainToday  \\\n0       1017.6       1017.4         8         8     20.7     20.9        Yes   \n1       1017.9       1016.4         7         7     22.4     24.8        Yes   \n2       1016.7       1015.6         7         8     23.5     23.0        Yes   \n3       1014.2       1011.8         8         8     21.4     20.9        Yes   \n4       1008.3       1004.8         8         8     22.5     25.5        Yes   \n\n   RainTomorrow  \n0           Yes  \n1           Yes  \n2           Yes  \n3           Yes  \n4           Yes  \n\n[5 rows x 22 columns]",
            "text/html": "<div>\n<style scoped>\n    .dataframe tbody tr th:only-of-type {\n        vertical-align: middle;\n    }\n\n    .dataframe tbody tr th {\n        vertical-align: top;\n    }\n\n    .dataframe thead th {\n        text-align: right;\n    }\n</style>\n<table border=\"1\" class=\"dataframe\">\n  <thead>\n    <tr style=\"text-align: right;\">\n      <th></th>\n      <th>Date</th>\n      <th>MinTemp</th>\n      <th>MaxTemp</th>\n      <th>Rainfall</th>\n      <th>Evaporation</th>\n      <th>Sunshine</th>\n      <th>WindGustDir</th>\n      <th>WindGustSpeed</th>\n      <th>WindDir9am</th>\n      <th>WindDir3pm</th>\n      <th>...</th>\n      <th>Humidity9am</th>\n      <th>Humidity3pm</th>\n      <th>Pressure9am</th>\n      <th>Pressure3pm</th>\n      <th>Cloud9am</th>\n      <th>Cloud3pm</th>\n      <th>Temp9am</th>\n      <th>Temp3pm</th>\n      <th>RainToday</th>\n      <th>RainTomorrow</th>\n    </tr>\n  </thead>\n  <tbody>\n    <tr>\n      <th>0</th>\n      <td>2/1/2008</td>\n      <td>19.5</td>\n      <td>22.4</td>\n      <td>15.6</td>\n      <td>6.2</td>\n      <td>0.0</td>\n      <td>W</td>\n      <td>41</td>\n      <td>S</td>\n      <td>SSW</td>\n      <td>...</td>\n      <td>92</td>\n      <td>84</td>\n      <td>1017.6</td>\n      <td>1017.4</td>\n      <td>8</td>\n      <td>8</td>\n      <td>20.7</td>\n      <td>20.9</td>\n      <td>Yes</td>\n      <td>Yes</td>\n    </tr>\n    <tr>\n      <th>1</th>\n      <td>2/2/2008</td>\n      <td>19.5</td>\n      <td>25.6</td>\n      <td>6.0</td>\n      <td>3.4</td>\n      <td>2.7</td>\n      <td>W</td>\n      <td>41</td>\n      <td>W</td>\n      <td>E</td>\n      <td>...</td>\n      <td>83</td>\n      <td>73</td>\n      <td>1017.9</td>\n      <td>1016.4</td>\n      <td>7</td>\n      <td>7</td>\n      <td>22.4</td>\n      <td>24.8</td>\n      <td>Yes</td>\n      <td>Yes</td>\n    </tr>\n    <tr>\n      <th>2</th>\n      <td>2/3/2008</td>\n      <td>21.6</td>\n      <td>24.5</td>\n      <td>6.6</td>\n      <td>2.4</td>\n      <td>0.1</td>\n      <td>W</td>\n      <td>41</td>\n      <td>ESE</td>\n      <td>ESE</td>\n      <td>...</td>\n      <td>88</td>\n      <td>86</td>\n      <td>1016.7</td>\n      <td>1015.6</td>\n      <td>7</td>\n      <td>8</td>\n      <td>23.5</td>\n      <td>23.0</td>\n      <td>Yes</td>\n      <td>Yes</td>\n    </tr>\n    <tr>\n      <th>3</th>\n      <td>2/4/2008</td>\n      <td>20.2</td>\n      <td>22.8</td>\n      <td>18.8</td>\n      <td>2.2</td>\n      <td>0.0</td>\n      <td>W</td>\n      <td>41</td>\n      <td>NNE</td>\n      <td>E</td>\n      <td>...</td>\n      <td>83</td>\n      <td>90</td>\n      <td>1014.2</td>\n      <td>1011.8</td>\n      <td>8</td>\n      <td>8</td>\n      <td>21.4</td>\n      <td>20.9</td>\n      <td>Yes</td>\n      <td>Yes</td>\n    </tr>\n    <tr>\n      <th>4</th>\n      <td>2/5/2008</td>\n      <td>19.7</td>\n      <td>25.7</td>\n      <td>77.4</td>\n      <td>4.8</td>\n      <td>0.0</td>\n      <td>W</td>\n      <td>41</td>\n      <td>NNE</td>\n      <td>W</td>\n      <td>...</td>\n      <td>88</td>\n      <td>74</td>\n      <td>1008.3</td>\n      <td>1004.8</td>\n      <td>8</td>\n      <td>8</td>\n      <td>22.5</td>\n      <td>25.5</td>\n      <td>Yes</td>\n      <td>Yes</td>\n    </tr>\n  </tbody>\n</table>\n<p>5 rows × 22 columns</p>\n</div>"
          },
          "metadata": {}
        }
      ]
    },
    {
      "cell_type": "code",
      "source": "#Seeing the info of the dataset\ndf.info()",
      "metadata": {
        "trusted": true
      },
      "execution_count": 9,
      "outputs": [
        {
          "name": "stdout",
          "text": "<class 'pandas.core.frame.DataFrame'>\nRangeIndex: 3271 entries, 0 to 3270\nData columns (total 22 columns):\n #   Column         Non-Null Count  Dtype  \n---  ------         --------------  -----  \n 0   Date           3271 non-null   object \n 1   MinTemp        3271 non-null   float64\n 2   MaxTemp        3271 non-null   float64\n 3   Rainfall       3271 non-null   float64\n 4   Evaporation    3271 non-null   float64\n 5   Sunshine       3271 non-null   float64\n 6   WindGustDir    3271 non-null   object \n 7   WindGustSpeed  3271 non-null   int64  \n 8   WindDir9am     3271 non-null   object \n 9   WindDir3pm     3271 non-null   object \n 10  WindSpeed9am   3271 non-null   int64  \n 11  WindSpeed3pm   3271 non-null   int64  \n 12  Humidity9am    3271 non-null   int64  \n 13  Humidity3pm    3271 non-null   int64  \n 14  Pressure9am    3271 non-null   float64\n 15  Pressure3pm    3271 non-null   float64\n 16  Cloud9am       3271 non-null   int64  \n 17  Cloud3pm       3271 non-null   int64  \n 18  Temp9am        3271 non-null   float64\n 19  Temp3pm        3271 non-null   float64\n 20  RainToday      3271 non-null   object \n 21  RainTomorrow   3271 non-null   object \ndtypes: float64(9), int64(7), object(6)\nmemory usage: 485.6+ KB\n",
          "output_type": "stream"
        }
      ]
    },
    {
      "cell_type": "code",
      "source": "df.describe().T",
      "metadata": {
        "trusted": true
      },
      "execution_count": 11,
      "outputs": [
        {
          "execution_count": 11,
          "output_type": "execute_result",
          "data": {
            "text/plain": "                count         mean        std    min      25%     50%     75%  \\\nMinTemp        3271.0    14.877102   4.554710    4.3    11.00    14.9    18.8   \nMaxTemp        3271.0    23.005564   4.483752   11.7    19.60    22.8    26.0   \nRainfall       3271.0     3.342158   9.917746    0.0     0.00     0.0     1.4   \nEvaporation    3271.0     5.175787   2.757684    0.0     3.20     4.8     7.0   \nSunshine       3271.0     7.168970   3.815966    0.0     4.25     8.3    10.2   \nWindGustSpeed  3271.0    41.476307  10.806951   17.0    35.00    41.0    44.0   \nWindSpeed9am   3271.0    15.077041   7.043825    0.0    11.00    15.0    20.0   \nWindSpeed3pm   3271.0    19.294405   7.453331    0.0    15.00    19.0    24.0   \nHumidity9am    3271.0    68.243962  15.086127   19.0    58.00    69.0    80.0   \nHumidity3pm    3271.0    54.698563  16.279241   10.0    44.00    56.0    64.0   \nPressure9am    3271.0  1018.334424   7.020090  986.7  1013.70  1018.6  1023.1   \nPressure3pm    3271.0  1016.003085   7.019915  989.8  1011.30  1016.3  1020.8   \nCloud9am       3271.0     4.318557   2.526923    0.0     2.00     5.0     7.0   \nCloud3pm       3271.0     4.176093   2.411274    0.0     2.00     4.0     7.0   \nTemp9am        3271.0    17.821461   4.894316    6.4    13.80    18.2    21.7   \nTemp3pm        3271.0    21.543656   4.297053   10.2    18.40    21.3    24.5   \n\n                  max  \nMinTemp          27.6  \nMaxTemp          45.8  \nRainfall        119.4  \nEvaporation      18.4  \nSunshine         13.6  \nWindGustSpeed    96.0  \nWindSpeed9am     54.0  \nWindSpeed3pm     57.0  \nHumidity9am     100.0  \nHumidity3pm      99.0  \nPressure9am    1039.0  \nPressure3pm    1036.7  \nCloud9am          9.0  \nCloud3pm          8.0  \nTemp9am          36.5  \nTemp3pm          44.7  ",
            "text/html": "<div>\n<style scoped>\n    .dataframe tbody tr th:only-of-type {\n        vertical-align: middle;\n    }\n\n    .dataframe tbody tr th {\n        vertical-align: top;\n    }\n\n    .dataframe thead th {\n        text-align: right;\n    }\n</style>\n<table border=\"1\" class=\"dataframe\">\n  <thead>\n    <tr style=\"text-align: right;\">\n      <th></th>\n      <th>count</th>\n      <th>mean</th>\n      <th>std</th>\n      <th>min</th>\n      <th>25%</th>\n      <th>50%</th>\n      <th>75%</th>\n      <th>max</th>\n    </tr>\n  </thead>\n  <tbody>\n    <tr>\n      <th>MinTemp</th>\n      <td>3271.0</td>\n      <td>14.877102</td>\n      <td>4.554710</td>\n      <td>4.3</td>\n      <td>11.00</td>\n      <td>14.9</td>\n      <td>18.8</td>\n      <td>27.6</td>\n    </tr>\n    <tr>\n      <th>MaxTemp</th>\n      <td>3271.0</td>\n      <td>23.005564</td>\n      <td>4.483752</td>\n      <td>11.7</td>\n      <td>19.60</td>\n      <td>22.8</td>\n      <td>26.0</td>\n      <td>45.8</td>\n    </tr>\n    <tr>\n      <th>Rainfall</th>\n      <td>3271.0</td>\n      <td>3.342158</td>\n      <td>9.917746</td>\n      <td>0.0</td>\n      <td>0.00</td>\n      <td>0.0</td>\n      <td>1.4</td>\n      <td>119.4</td>\n    </tr>\n    <tr>\n      <th>Evaporation</th>\n      <td>3271.0</td>\n      <td>5.175787</td>\n      <td>2.757684</td>\n      <td>0.0</td>\n      <td>3.20</td>\n      <td>4.8</td>\n      <td>7.0</td>\n      <td>18.4</td>\n    </tr>\n    <tr>\n      <th>Sunshine</th>\n      <td>3271.0</td>\n      <td>7.168970</td>\n      <td>3.815966</td>\n      <td>0.0</td>\n      <td>4.25</td>\n      <td>8.3</td>\n      <td>10.2</td>\n      <td>13.6</td>\n    </tr>\n    <tr>\n      <th>WindGustSpeed</th>\n      <td>3271.0</td>\n      <td>41.476307</td>\n      <td>10.806951</td>\n      <td>17.0</td>\n      <td>35.00</td>\n      <td>41.0</td>\n      <td>44.0</td>\n      <td>96.0</td>\n    </tr>\n    <tr>\n      <th>WindSpeed9am</th>\n      <td>3271.0</td>\n      <td>15.077041</td>\n      <td>7.043825</td>\n      <td>0.0</td>\n      <td>11.00</td>\n      <td>15.0</td>\n      <td>20.0</td>\n      <td>54.0</td>\n    </tr>\n    <tr>\n      <th>WindSpeed3pm</th>\n      <td>3271.0</td>\n      <td>19.294405</td>\n      <td>7.453331</td>\n      <td>0.0</td>\n      <td>15.00</td>\n      <td>19.0</td>\n      <td>24.0</td>\n      <td>57.0</td>\n    </tr>\n    <tr>\n      <th>Humidity9am</th>\n      <td>3271.0</td>\n      <td>68.243962</td>\n      <td>15.086127</td>\n      <td>19.0</td>\n      <td>58.00</td>\n      <td>69.0</td>\n      <td>80.0</td>\n      <td>100.0</td>\n    </tr>\n    <tr>\n      <th>Humidity3pm</th>\n      <td>3271.0</td>\n      <td>54.698563</td>\n      <td>16.279241</td>\n      <td>10.0</td>\n      <td>44.00</td>\n      <td>56.0</td>\n      <td>64.0</td>\n      <td>99.0</td>\n    </tr>\n    <tr>\n      <th>Pressure9am</th>\n      <td>3271.0</td>\n      <td>1018.334424</td>\n      <td>7.020090</td>\n      <td>986.7</td>\n      <td>1013.70</td>\n      <td>1018.6</td>\n      <td>1023.1</td>\n      <td>1039.0</td>\n    </tr>\n    <tr>\n      <th>Pressure3pm</th>\n      <td>3271.0</td>\n      <td>1016.003085</td>\n      <td>7.019915</td>\n      <td>989.8</td>\n      <td>1011.30</td>\n      <td>1016.3</td>\n      <td>1020.8</td>\n      <td>1036.7</td>\n    </tr>\n    <tr>\n      <th>Cloud9am</th>\n      <td>3271.0</td>\n      <td>4.318557</td>\n      <td>2.526923</td>\n      <td>0.0</td>\n      <td>2.00</td>\n      <td>5.0</td>\n      <td>7.0</td>\n      <td>9.0</td>\n    </tr>\n    <tr>\n      <th>Cloud3pm</th>\n      <td>3271.0</td>\n      <td>4.176093</td>\n      <td>2.411274</td>\n      <td>0.0</td>\n      <td>2.00</td>\n      <td>4.0</td>\n      <td>7.0</td>\n      <td>8.0</td>\n    </tr>\n    <tr>\n      <th>Temp9am</th>\n      <td>3271.0</td>\n      <td>17.821461</td>\n      <td>4.894316</td>\n      <td>6.4</td>\n      <td>13.80</td>\n      <td>18.2</td>\n      <td>21.7</td>\n      <td>36.5</td>\n    </tr>\n    <tr>\n      <th>Temp3pm</th>\n      <td>3271.0</td>\n      <td>21.543656</td>\n      <td>4.297053</td>\n      <td>10.2</td>\n      <td>18.40</td>\n      <td>21.3</td>\n      <td>24.5</td>\n      <td>44.7</td>\n    </tr>\n  </tbody>\n</table>\n</div>"
          },
          "metadata": {}
        }
      ]
    },
    {
      "cell_type": "code",
      "source": "#Seeing the null values\ndf.isna().sum()\n#As we can see, there is no null data",
      "metadata": {
        "trusted": true
      },
      "execution_count": 12,
      "outputs": [
        {
          "execution_count": 12,
          "output_type": "execute_result",
          "data": {
            "text/plain": "Date             0\nMinTemp          0\nMaxTemp          0\nRainfall         0\nEvaporation      0\nSunshine         0\nWindGustDir      0\nWindGustSpeed    0\nWindDir9am       0\nWindDir3pm       0\nWindSpeed9am     0\nWindSpeed3pm     0\nHumidity9am      0\nHumidity3pm      0\nPressure9am      0\nPressure3pm      0\nCloud9am         0\nCloud3pm         0\nTemp9am          0\nTemp3pm          0\nRainToday        0\nRainTomorrow     0\ndtype: int64"
          },
          "metadata": {}
        }
      ]
    },
    {
      "cell_type": "markdown",
      "source": "### Data Preprocessing\n",
      "metadata": {}
    },
    {
      "cell_type": "markdown",
      "source": "#### One Hot Encoding\n",
      "metadata": {}
    },
    {
      "cell_type": "markdown",
      "source": "First, we need to perform one hot encoding to convert categorical variables to binary variables.\n",
      "metadata": {}
    },
    {
      "cell_type": "code",
      "source": "df_sydney_processed = pd.get_dummies(data=df, columns=['RainToday', 'WindGustDir', 'WindDir9am', 'WindDir3pm'])",
      "metadata": {
        "trusted": true
      },
      "execution_count": 13,
      "outputs": []
    },
    {
      "cell_type": "markdown",
      "source": "Next, we replace the values of the 'RainTomorrow' column changing them from a categorical column to a binary column. We do not use the `get_dummies` method because we would end up with two columns for 'RainTomorrow' and we do not want, since 'RainTomorrow' is our target.\n",
      "metadata": {}
    },
    {
      "cell_type": "code",
      "source": "df_sydney_processed.replace(['No', 'Yes'], [0,1], inplace=True)",
      "metadata": {
        "trusted": true
      },
      "execution_count": 14,
      "outputs": []
    },
    {
      "cell_type": "markdown",
      "source": "### Training Data and Test Data\n",
      "metadata": {}
    },
    {
      "cell_type": "markdown",
      "source": "Now, we set our 'features' or x values and our Y or target variable.\n",
      "metadata": {}
    },
    {
      "cell_type": "code",
      "source": "df_sydney_processed.drop('Date',axis=1,inplace=True)",
      "metadata": {
        "trusted": true
      },
      "execution_count": 15,
      "outputs": []
    },
    {
      "cell_type": "code",
      "source": "df_sydney_processed = df_sydney_processed.astype(float)",
      "metadata": {
        "trusted": true
      },
      "execution_count": 16,
      "outputs": []
    },
    {
      "cell_type": "code",
      "source": "features = df_sydney_processed.drop(columns='RainTomorrow', axis=1)\nY = df_sydney_processed['RainTomorrow']",
      "metadata": {
        "trusted": true
      },
      "execution_count": 17,
      "outputs": []
    },
    {
      "cell_type": "markdown",
      "source": "### Linear Regression\n",
      "metadata": {}
    },
    {
      "cell_type": "markdown",
      "source": "#### Q1) Use the `train_test_split` function to split the `features` and `Y` dataframes with a `test_size` of `0.2` and the `random_state` set to `10`.\n",
      "metadata": {}
    },
    {
      "cell_type": "code",
      "source": "#Enter Your Code, Execute and take the Screenshot\nX = features\ny = Y\n#random_state value\nr = 10\n#test_size value\nt = 0.2",
      "metadata": {
        "trusted": true
      },
      "execution_count": 19,
      "outputs": []
    },
    {
      "cell_type": "code",
      "source": "x_train, x_test, y_train, y_test = train_test_split(X, y, test_size = t, random_state = r)",
      "metadata": {
        "trusted": true
      },
      "execution_count": 20,
      "outputs": []
    },
    {
      "cell_type": "markdown",
      "source": "#### Q2) Create and train a Linear Regression model called LinearReg using the training data (`x_train`, `y_train`).\n",
      "metadata": {}
    },
    {
      "cell_type": "code",
      "source": "#Seeing the head of x_train\nx_train.head()",
      "metadata": {
        "trusted": true
      },
      "execution_count": 21,
      "outputs": [
        {
          "execution_count": 21,
          "output_type": "execute_result",
          "data": {
            "text/plain": "      MinTemp  MaxTemp  Rainfall  Evaporation  Sunshine  WindGustSpeed  \\\n3188     14.8     22.0      33.8          4.2       1.5           50.0   \n2582      8.1     18.4       0.0          4.8       8.5           41.0   \n815      15.4     21.1       0.0          3.8       5.9           41.0   \n1024     20.0     26.5       0.0          8.6      13.1           30.0   \n1320     14.8     18.3      38.8          7.4       0.1           48.0   \n\n      WindSpeed9am  WindSpeed3pm  Humidity9am  Humidity3pm  ...  \\\n3188          19.0          24.0         90.0         49.0  ...   \n2582          20.0          11.0         70.0         50.0  ...   \n815            7.0          28.0         59.0         41.0  ...   \n1024           7.0          20.0         64.0         63.0  ...   \n1320          19.0          24.0         93.0         86.0  ...   \n\n      WindDir3pm_NNW  WindDir3pm_NW  WindDir3pm_S  WindDir3pm_SE  \\\n3188             0.0            0.0           0.0            0.0   \n2582             0.0            0.0           0.0            0.0   \n815              0.0            0.0           0.0            0.0   \n1024             0.0            0.0           0.0            0.0   \n1320             0.0            0.0           0.0            0.0   \n\n      WindDir3pm_SSE  WindDir3pm_SSW  WindDir3pm_SW  WindDir3pm_W  \\\n3188             0.0             0.0            0.0           0.0   \n2582             0.0             0.0            0.0           0.0   \n815              0.0             0.0            0.0           1.0   \n1024             0.0             0.0            0.0           0.0   \n1320             1.0             0.0            0.0           0.0   \n\n      WindDir3pm_WNW  WindDir3pm_WSW  \n3188             0.0             0.0  \n2582             0.0             0.0  \n815              0.0             0.0  \n1024             0.0             0.0  \n1320             0.0             0.0  \n\n[5 rows x 66 columns]",
            "text/html": "<div>\n<style scoped>\n    .dataframe tbody tr th:only-of-type {\n        vertical-align: middle;\n    }\n\n    .dataframe tbody tr th {\n        vertical-align: top;\n    }\n\n    .dataframe thead th {\n        text-align: right;\n    }\n</style>\n<table border=\"1\" class=\"dataframe\">\n  <thead>\n    <tr style=\"text-align: right;\">\n      <th></th>\n      <th>MinTemp</th>\n      <th>MaxTemp</th>\n      <th>Rainfall</th>\n      <th>Evaporation</th>\n      <th>Sunshine</th>\n      <th>WindGustSpeed</th>\n      <th>WindSpeed9am</th>\n      <th>WindSpeed3pm</th>\n      <th>Humidity9am</th>\n      <th>Humidity3pm</th>\n      <th>...</th>\n      <th>WindDir3pm_NNW</th>\n      <th>WindDir3pm_NW</th>\n      <th>WindDir3pm_S</th>\n      <th>WindDir3pm_SE</th>\n      <th>WindDir3pm_SSE</th>\n      <th>WindDir3pm_SSW</th>\n      <th>WindDir3pm_SW</th>\n      <th>WindDir3pm_W</th>\n      <th>WindDir3pm_WNW</th>\n      <th>WindDir3pm_WSW</th>\n    </tr>\n  </thead>\n  <tbody>\n    <tr>\n      <th>3188</th>\n      <td>14.8</td>\n      <td>22.0</td>\n      <td>33.8</td>\n      <td>4.2</td>\n      <td>1.5</td>\n      <td>50.0</td>\n      <td>19.0</td>\n      <td>24.0</td>\n      <td>90.0</td>\n      <td>49.0</td>\n      <td>...</td>\n      <td>0.0</td>\n      <td>0.0</td>\n      <td>0.0</td>\n      <td>0.0</td>\n      <td>0.0</td>\n      <td>0.0</td>\n      <td>0.0</td>\n      <td>0.0</td>\n      <td>0.0</td>\n      <td>0.0</td>\n    </tr>\n    <tr>\n      <th>2582</th>\n      <td>8.1</td>\n      <td>18.4</td>\n      <td>0.0</td>\n      <td>4.8</td>\n      <td>8.5</td>\n      <td>41.0</td>\n      <td>20.0</td>\n      <td>11.0</td>\n      <td>70.0</td>\n      <td>50.0</td>\n      <td>...</td>\n      <td>0.0</td>\n      <td>0.0</td>\n      <td>0.0</td>\n      <td>0.0</td>\n      <td>0.0</td>\n      <td>0.0</td>\n      <td>0.0</td>\n      <td>0.0</td>\n      <td>0.0</td>\n      <td>0.0</td>\n    </tr>\n    <tr>\n      <th>815</th>\n      <td>15.4</td>\n      <td>21.1</td>\n      <td>0.0</td>\n      <td>3.8</td>\n      <td>5.9</td>\n      <td>41.0</td>\n      <td>7.0</td>\n      <td>28.0</td>\n      <td>59.0</td>\n      <td>41.0</td>\n      <td>...</td>\n      <td>0.0</td>\n      <td>0.0</td>\n      <td>0.0</td>\n      <td>0.0</td>\n      <td>0.0</td>\n      <td>0.0</td>\n      <td>0.0</td>\n      <td>1.0</td>\n      <td>0.0</td>\n      <td>0.0</td>\n    </tr>\n    <tr>\n      <th>1024</th>\n      <td>20.0</td>\n      <td>26.5</td>\n      <td>0.0</td>\n      <td>8.6</td>\n      <td>13.1</td>\n      <td>30.0</td>\n      <td>7.0</td>\n      <td>20.0</td>\n      <td>64.0</td>\n      <td>63.0</td>\n      <td>...</td>\n      <td>0.0</td>\n      <td>0.0</td>\n      <td>0.0</td>\n      <td>0.0</td>\n      <td>0.0</td>\n      <td>0.0</td>\n      <td>0.0</td>\n      <td>0.0</td>\n      <td>0.0</td>\n      <td>0.0</td>\n    </tr>\n    <tr>\n      <th>1320</th>\n      <td>14.8</td>\n      <td>18.3</td>\n      <td>38.8</td>\n      <td>7.4</td>\n      <td>0.1</td>\n      <td>48.0</td>\n      <td>19.0</td>\n      <td>24.0</td>\n      <td>93.0</td>\n      <td>86.0</td>\n      <td>...</td>\n      <td>0.0</td>\n      <td>0.0</td>\n      <td>0.0</td>\n      <td>0.0</td>\n      <td>1.0</td>\n      <td>0.0</td>\n      <td>0.0</td>\n      <td>0.0</td>\n      <td>0.0</td>\n      <td>0.0</td>\n    </tr>\n  </tbody>\n</table>\n<p>5 rows × 66 columns</p>\n</div>"
          },
          "metadata": {}
        }
      ]
    },
    {
      "cell_type": "code",
      "source": "#Seeing the head of x_test\nx_test.head()",
      "metadata": {
        "trusted": true
      },
      "execution_count": 22,
      "outputs": [
        {
          "execution_count": 22,
          "output_type": "execute_result",
          "data": {
            "text/plain": "      MinTemp  MaxTemp  Rainfall  Evaporation  Sunshine  WindGustSpeed  \\\n3066     18.7     35.7       0.2          6.0       9.8           57.0   \n2456     15.0     24.8      22.4          3.4       9.7           37.0   \n1629      8.5     16.0       3.4          2.0       4.3           74.0   \n838      11.7     19.9       1.6          1.4       4.6           41.0   \n2506      7.9     19.3       2.2          4.0      10.1           46.0   \n\n      WindSpeed9am  WindSpeed3pm  Humidity9am  Humidity3pm  ...  \\\n3066          13.0          17.0         44.0         24.0  ...   \n2456          19.0          20.0         72.0         53.0  ...   \n1629          35.0          22.0         84.0         87.0  ...   \n838           15.0           7.0         92.0         53.0  ...   \n2506          28.0          20.0         49.0         34.0  ...   \n\n      WindDir3pm_NNW  WindDir3pm_NW  WindDir3pm_S  WindDir3pm_SE  \\\n3066             0.0            0.0           0.0            0.0   \n2456             0.0            0.0           0.0            0.0   \n1629             0.0            0.0           0.0            0.0   \n838              0.0            0.0           0.0            0.0   \n2506             0.0            0.0           0.0            0.0   \n\n      WindDir3pm_SSE  WindDir3pm_SSW  WindDir3pm_SW  WindDir3pm_W  \\\n3066             0.0             0.0            0.0           0.0   \n2456             1.0             0.0            0.0           0.0   \n1629             0.0             1.0            0.0           0.0   \n838              0.0             0.0            0.0           0.0   \n2506             0.0             0.0            0.0           1.0   \n\n      WindDir3pm_WNW  WindDir3pm_WSW  \n3066             0.0             0.0  \n2456             0.0             0.0  \n1629             0.0             0.0  \n838              0.0             0.0  \n2506             0.0             0.0  \n\n[5 rows x 66 columns]",
            "text/html": "<div>\n<style scoped>\n    .dataframe tbody tr th:only-of-type {\n        vertical-align: middle;\n    }\n\n    .dataframe tbody tr th {\n        vertical-align: top;\n    }\n\n    .dataframe thead th {\n        text-align: right;\n    }\n</style>\n<table border=\"1\" class=\"dataframe\">\n  <thead>\n    <tr style=\"text-align: right;\">\n      <th></th>\n      <th>MinTemp</th>\n      <th>MaxTemp</th>\n      <th>Rainfall</th>\n      <th>Evaporation</th>\n      <th>Sunshine</th>\n      <th>WindGustSpeed</th>\n      <th>WindSpeed9am</th>\n      <th>WindSpeed3pm</th>\n      <th>Humidity9am</th>\n      <th>Humidity3pm</th>\n      <th>...</th>\n      <th>WindDir3pm_NNW</th>\n      <th>WindDir3pm_NW</th>\n      <th>WindDir3pm_S</th>\n      <th>WindDir3pm_SE</th>\n      <th>WindDir3pm_SSE</th>\n      <th>WindDir3pm_SSW</th>\n      <th>WindDir3pm_SW</th>\n      <th>WindDir3pm_W</th>\n      <th>WindDir3pm_WNW</th>\n      <th>WindDir3pm_WSW</th>\n    </tr>\n  </thead>\n  <tbody>\n    <tr>\n      <th>3066</th>\n      <td>18.7</td>\n      <td>35.7</td>\n      <td>0.2</td>\n      <td>6.0</td>\n      <td>9.8</td>\n      <td>57.0</td>\n      <td>13.0</td>\n      <td>17.0</td>\n      <td>44.0</td>\n      <td>24.0</td>\n      <td>...</td>\n      <td>0.0</td>\n      <td>0.0</td>\n      <td>0.0</td>\n      <td>0.0</td>\n      <td>0.0</td>\n      <td>0.0</td>\n      <td>0.0</td>\n      <td>0.0</td>\n      <td>0.0</td>\n      <td>0.0</td>\n    </tr>\n    <tr>\n      <th>2456</th>\n      <td>15.0</td>\n      <td>24.8</td>\n      <td>22.4</td>\n      <td>3.4</td>\n      <td>9.7</td>\n      <td>37.0</td>\n      <td>19.0</td>\n      <td>20.0</td>\n      <td>72.0</td>\n      <td>53.0</td>\n      <td>...</td>\n      <td>0.0</td>\n      <td>0.0</td>\n      <td>0.0</td>\n      <td>0.0</td>\n      <td>1.0</td>\n      <td>0.0</td>\n      <td>0.0</td>\n      <td>0.0</td>\n      <td>0.0</td>\n      <td>0.0</td>\n    </tr>\n    <tr>\n      <th>1629</th>\n      <td>8.5</td>\n      <td>16.0</td>\n      <td>3.4</td>\n      <td>2.0</td>\n      <td>4.3</td>\n      <td>74.0</td>\n      <td>35.0</td>\n      <td>22.0</td>\n      <td>84.0</td>\n      <td>87.0</td>\n      <td>...</td>\n      <td>0.0</td>\n      <td>0.0</td>\n      <td>0.0</td>\n      <td>0.0</td>\n      <td>0.0</td>\n      <td>1.0</td>\n      <td>0.0</td>\n      <td>0.0</td>\n      <td>0.0</td>\n      <td>0.0</td>\n    </tr>\n    <tr>\n      <th>838</th>\n      <td>11.7</td>\n      <td>19.9</td>\n      <td>1.6</td>\n      <td>1.4</td>\n      <td>4.6</td>\n      <td>41.0</td>\n      <td>15.0</td>\n      <td>7.0</td>\n      <td>92.0</td>\n      <td>53.0</td>\n      <td>...</td>\n      <td>0.0</td>\n      <td>0.0</td>\n      <td>0.0</td>\n      <td>0.0</td>\n      <td>0.0</td>\n      <td>0.0</td>\n      <td>0.0</td>\n      <td>0.0</td>\n      <td>0.0</td>\n      <td>0.0</td>\n    </tr>\n    <tr>\n      <th>2506</th>\n      <td>7.9</td>\n      <td>19.3</td>\n      <td>2.2</td>\n      <td>4.0</td>\n      <td>10.1</td>\n      <td>46.0</td>\n      <td>28.0</td>\n      <td>20.0</td>\n      <td>49.0</td>\n      <td>34.0</td>\n      <td>...</td>\n      <td>0.0</td>\n      <td>0.0</td>\n      <td>0.0</td>\n      <td>0.0</td>\n      <td>0.0</td>\n      <td>0.0</td>\n      <td>0.0</td>\n      <td>1.0</td>\n      <td>0.0</td>\n      <td>0.0</td>\n    </tr>\n  </tbody>\n</table>\n<p>5 rows × 66 columns</p>\n</div>"
          },
          "metadata": {}
        }
      ]
    },
    {
      "cell_type": "code",
      "source": "#Seeing the head of y_train\ny_train.head()",
      "metadata": {
        "trusted": true
      },
      "execution_count": 23,
      "outputs": [
        {
          "execution_count": 23,
          "output_type": "execute_result",
          "data": {
            "text/plain": "3188    1.0\n2582    0.0\n815     1.0\n1024    0.0\n1320    1.0\nName: RainTomorrow, dtype: float64"
          },
          "metadata": {}
        }
      ]
    },
    {
      "cell_type": "code",
      "source": "#Seeing the head of y_test\ny_test.head()",
      "metadata": {
        "trusted": true
      },
      "execution_count": 24,
      "outputs": [
        {
          "execution_count": 24,
          "output_type": "execute_result",
          "data": {
            "text/plain": "3066    0.0\n2456    0.0\n1629    1.0\n838     1.0\n2506    0.0\nName: RainTomorrow, dtype: float64"
          },
          "metadata": {}
        }
      ]
    },
    {
      "cell_type": "code",
      "source": "#Seeing the shape\nprint(x_train.shape, x_test.shape,y_train.shape,y_test.shape)",
      "metadata": {
        "trusted": true
      },
      "execution_count": 27,
      "outputs": [
        {
          "name": "stdout",
          "text": "(2616, 66) (655, 66) (2616,) (655,)\n",
          "output_type": "stream"
        }
      ]
    },
    {
      "cell_type": "code",
      "source": "#Enter Your Code, Execute and take the Screenshot",
      "metadata": {},
      "execution_count": null,
      "outputs": []
    },
    {
      "cell_type": "code",
      "source": "#Importing LinearRegression\nfrom sklearn.linear_model import LinearRegression\n#Creating the model of LinearRegression\nLinearReg = LinearRegression()\n#Fitting the model\nLinearReg.fit(x_train, y_train)",
      "metadata": {
        "trusted": true
      },
      "execution_count": 30,
      "outputs": [
        {
          "execution_count": 30,
          "output_type": "execute_result",
          "data": {
            "text/plain": "LinearRegression()",
            "text/html": "<style>#sk-container-id-1 {color: black;background-color: white;}#sk-container-id-1 pre{padding: 0;}#sk-container-id-1 div.sk-toggleable {background-color: white;}#sk-container-id-1 label.sk-toggleable__label {cursor: pointer;display: block;width: 100%;margin-bottom: 0;padding: 0.3em;box-sizing: border-box;text-align: center;}#sk-container-id-1 label.sk-toggleable__label-arrow:before {content: \"▸\";float: left;margin-right: 0.25em;color: #696969;}#sk-container-id-1 label.sk-toggleable__label-arrow:hover:before {color: black;}#sk-container-id-1 div.sk-estimator:hover label.sk-toggleable__label-arrow:before {color: black;}#sk-container-id-1 div.sk-toggleable__content {max-height: 0;max-width: 0;overflow: hidden;text-align: left;background-color: #f0f8ff;}#sk-container-id-1 div.sk-toggleable__content pre {margin: 0.2em;color: black;border-radius: 0.25em;background-color: #f0f8ff;}#sk-container-id-1 input.sk-toggleable__control:checked~div.sk-toggleable__content {max-height: 200px;max-width: 100%;overflow: auto;}#sk-container-id-1 input.sk-toggleable__control:checked~label.sk-toggleable__label-arrow:before {content: \"▾\";}#sk-container-id-1 div.sk-estimator input.sk-toggleable__control:checked~label.sk-toggleable__label {background-color: #d4ebff;}#sk-container-id-1 div.sk-label input.sk-toggleable__control:checked~label.sk-toggleable__label {background-color: #d4ebff;}#sk-container-id-1 input.sk-hidden--visually {border: 0;clip: rect(1px 1px 1px 1px);clip: rect(1px, 1px, 1px, 1px);height: 1px;margin: -1px;overflow: hidden;padding: 0;position: absolute;width: 1px;}#sk-container-id-1 div.sk-estimator {font-family: monospace;background-color: #f0f8ff;border: 1px dotted black;border-radius: 0.25em;box-sizing: border-box;margin-bottom: 0.5em;}#sk-container-id-1 div.sk-estimator:hover {background-color: #d4ebff;}#sk-container-id-1 div.sk-parallel-item::after {content: \"\";width: 100%;border-bottom: 1px solid gray;flex-grow: 1;}#sk-container-id-1 div.sk-label:hover label.sk-toggleable__label {background-color: #d4ebff;}#sk-container-id-1 div.sk-serial::before {content: \"\";position: absolute;border-left: 1px solid gray;box-sizing: border-box;top: 0;bottom: 0;left: 50%;z-index: 0;}#sk-container-id-1 div.sk-serial {display: flex;flex-direction: column;align-items: center;background-color: white;padding-right: 0.2em;padding-left: 0.2em;position: relative;}#sk-container-id-1 div.sk-item {position: relative;z-index: 1;}#sk-container-id-1 div.sk-parallel {display: flex;align-items: stretch;justify-content: center;background-color: white;position: relative;}#sk-container-id-1 div.sk-item::before, #sk-container-id-1 div.sk-parallel-item::before {content: \"\";position: absolute;border-left: 1px solid gray;box-sizing: border-box;top: 0;bottom: 0;left: 50%;z-index: -1;}#sk-container-id-1 div.sk-parallel-item {display: flex;flex-direction: column;z-index: 1;position: relative;background-color: white;}#sk-container-id-1 div.sk-parallel-item:first-child::after {align-self: flex-end;width: 50%;}#sk-container-id-1 div.sk-parallel-item:last-child::after {align-self: flex-start;width: 50%;}#sk-container-id-1 div.sk-parallel-item:only-child::after {width: 0;}#sk-container-id-1 div.sk-dashed-wrapped {border: 1px dashed gray;margin: 0 0.4em 0.5em 0.4em;box-sizing: border-box;padding-bottom: 0.4em;background-color: white;}#sk-container-id-1 div.sk-label label {font-family: monospace;font-weight: bold;display: inline-block;line-height: 1.2em;}#sk-container-id-1 div.sk-label-container {text-align: center;}#sk-container-id-1 div.sk-container {/* jupyter's `normalize.less` sets `[hidden] { display: none; }` but bootstrap.min.css set `[hidden] { display: none !important; }` so we also need the `!important` here to be able to override the default hidden behavior on the sphinx rendered scikit-learn.org. See: https://github.com/scikit-learn/scikit-learn/issues/21755 */display: inline-block !important;position: relative;}#sk-container-id-1 div.sk-text-repr-fallback {display: none;}</style><div id=\"sk-container-id-1\" class=\"sk-top-container\"><div class=\"sk-text-repr-fallback\"><pre>LinearRegression()</pre><b>In a Jupyter environment, please rerun this cell to show the HTML representation or trust the notebook. <br />On GitHub, the HTML representation is unable to render, please try loading this page with nbviewer.org.</b></div><div class=\"sk-container\" hidden><div class=\"sk-item\"><div class=\"sk-estimator sk-toggleable\"><input class=\"sk-toggleable__control sk-hidden--visually\" id=\"sk-estimator-id-1\" type=\"checkbox\" checked><label for=\"sk-estimator-id-1\" class=\"sk-toggleable__label sk-toggleable__label-arrow\">LinearRegression</label><div class=\"sk-toggleable__content\"><pre>LinearRegression()</pre></div></div></div></div></div>"
          },
          "metadata": {}
        }
      ]
    },
    {
      "cell_type": "code",
      "source": "#Seeing the coef\nprint ('Coefficients: ', LinearReg.coef_)",
      "metadata": {
        "trusted": true
      },
      "execution_count": 31,
      "outputs": [
        {
          "name": "stdout",
          "text": "Coefficients:  [-2.36898597e-02  1.29940794e-02  7.28447952e-04  6.49240382e-03\n -3.51631991e-02  4.23792566e-03  1.82829608e-03  7.89765488e-04\n  9.53916720e-04  8.56268440e-03  7.69456986e-03 -9.24129706e-03\n -8.87456290e-03  1.00485529e-02  1.44566610e-02 -3.45969933e-03\n  2.56837450e+10  2.56837450e+10 -6.20590195e+09 -6.20590195e+09\n -6.20590195e+09 -6.20590195e+09 -6.20590195e+09 -6.20590195e+09\n -6.20590195e+09 -6.20590195e+09 -6.20590195e+09 -6.20590195e+09\n -6.20590195e+09 -6.20590195e+09 -6.20590195e+09 -6.20590195e+09\n -6.20590195e+09 -6.20590195e+09  1.15377956e+10  1.15377956e+10\n  1.15377956e+10  1.15377956e+10  1.15377956e+10  1.15377956e+10\n  1.15377956e+10  1.15377956e+10  1.15377956e+10  1.15377956e+10\n  1.15377956e+10  1.15377956e+10  1.15377956e+10  1.15377956e+10\n  1.15377956e+10  1.15377956e+10 -2.10745217e+09 -2.10745217e+09\n -2.10745217e+09 -2.10745217e+09 -2.10745217e+09 -2.10745217e+09\n -2.10745217e+09 -2.10745217e+09 -2.10745217e+09 -2.10745217e+09\n -2.10745217e+09 -2.10745217e+09 -2.10745217e+09 -2.10745217e+09\n -2.10745217e+09 -2.10745217e+09]\n",
          "output_type": "stream"
        }
      ]
    },
    {
      "cell_type": "markdown",
      "source": "#### Q3) Now use the `predict` method on the testing data (`x_test`) and save it to the array `predictions`.\n",
      "metadata": {}
    },
    {
      "cell_type": "code",
      "source": "#Enter Your Code, Execute and take the Screenshot",
      "metadata": {},
      "execution_count": null,
      "outputs": []
    },
    {
      "cell_type": "code",
      "source": "predictions = LinearReg.predict(x_test)\npredictions",
      "metadata": {
        "trusted": true
      },
      "execution_count": 33,
      "outputs": [
        {
          "execution_count": 33,
          "output_type": "execute_result",
          "data": {
            "text/plain": "array([ 1.31805420e-01,  2.76237488e-01,  9.78260040e-01,  2.87498474e-01,\n        1.32507324e-01,  4.60491180e-01,  3.56735229e-01,  8.56414795e-01,\n        6.75083160e-01,  3.82156372e-02,  4.78363037e-03,  2.81200409e-01,\n        3.39115143e-01,  7.81135559e-02,  6.26144409e-02,  5.64476013e-01,\n       -6.15844727e-02,  5.24177551e-01,  1.53690338e-01,  3.59714508e-01,\n        6.05316162e-02,  9.03514862e-01,  4.67285156e-01,  2.03426361e-01,\n       -7.09953308e-02,  3.83941650e-01,  5.36136627e-01, -2.29110718e-02,\n        6.40098572e-01, -9.56573486e-02,  3.78089905e-01,  1.20223999e-01,\n       -1.81159973e-02,  5.53703308e-02,  5.63621521e-01,  1.06297684e+00,\n       -6.73675537e-03,  5.14389038e-01, -8.84094238e-02,  6.92024231e-02,\n        2.44522095e-02,  8.71730804e-01,  2.44739532e-01,  3.94687653e-01,\n        2.67627716e-01,  4.46796417e-01, -4.75616455e-02,  1.89437866e-01,\n        7.76679993e-01,  1.57737732e-01,  3.98635864e-03, -5.19676208e-02,\n        2.07328796e-01, -2.07939148e-01, -7.61032104e-02,  2.49664307e-01,\n        2.79296875e-01,  6.02787018e-01,  6.29638672e-01,  4.90711212e-01,\n        5.64231873e-02,  1.05522156e-01,  6.70032501e-01,  7.64904022e-01,\n        9.84954834e-02, -6.33201599e-02,  4.13871765e-01,  7.25288391e-02,\n        2.49935150e-01,  2.56435394e-01,  3.77693176e-02, -6.88629150e-02,\n        3.48293304e-01,  1.73034668e-01,  4.15435791e-01, -7.25250244e-02,\n        3.41098785e-01,  1.86962128e-01, -1.54830933e-01,  7.99789429e-01,\n        2.32398987e-01,  2.37392426e-01,  2.56221771e-01,  1.03466034e-01,\n        6.20811462e-01,  1.29714966e-01,  3.71398926e-01,  4.82997894e-01,\n        3.08238983e-01,  1.19400024e-01,  5.48439026e-02,  1.12842560e-01,\n       -1.62471771e-01, -1.58046722e-01,  7.29331970e-02,  7.76401520e-01,\n        8.43200684e-02,  6.43142700e-01,  1.21788025e-01,  1.78066254e-01,\n        3.04996490e-01,  1.85523987e-01,  1.13139725e+00,  3.44512939e-01,\n        8.26862335e-01,  5.38974762e-01,  2.74330139e-01,  6.29470825e-01,\n       -6.72531128e-02,  9.63497162e-01,  5.61866760e-01,  2.34642029e-02,\n        1.05628967e-01,  9.38644409e-02,  8.15620422e-02,  2.92194366e-01,\n        5.55053711e-01,  6.69136047e-02,  4.25567627e-02,  9.11712646e-04,\n        1.37718201e-01, -2.17979431e-01,  7.01103210e-02,  1.19834900e-01,\n        1.92714691e-01, -3.82690430e-02,  1.56036377e-01,  7.12619781e-01,\n        2.62344360e-01,  5.34854889e-01,  3.97823334e-01, -4.64591980e-02,\n        2.44079590e-01,  2.06321716e-01,  2.80452728e-01, -1.28234863e-01,\n        1.19514465e-01,  3.83327484e-01,  1.84486389e-01,  7.28565216e-01,\n        3.31840515e-01, -1.03252411e-01,  2.39509583e-01,  3.06003571e-01,\n        6.63166046e-01,  2.21214294e-02,  1.60022736e-01,  5.21656036e-01,\n       -4.34646606e-02,  7.98393250e-01,  2.21843719e-01,  3.89865875e-01,\n       -5.63278198e-02,  4.02412415e-01,  2.34233856e-01,  1.20391846e-01,\n        3.05500031e-01,  7.86254883e-01,  3.32336426e-02,  1.22545242e+00,\n        8.94748688e-01,  8.18290710e-02, -1.51977539e-02,  1.71012878e-01,\n       -6.85386658e-02, -1.07837677e-01, -5.02128601e-02,  2.98679352e-01,\n        3.57070923e-01,  9.57832336e-02,  8.85368347e-01, -3.33404541e-02,\n        5.99250793e-01,  8.96682739e-02,  9.84039307e-02,  3.54087830e-01,\n        2.35946655e-01, -6.72683716e-02,  1.44302368e-01,  4.17938232e-01,\n        5.87409973e-01,  2.16766357e-01, -3.32984924e-02,  1.00632095e+00,\n        4.25949097e-02, -1.73721313e-02,  2.48321533e-01, -5.93261719e-02,\n        2.22229004e-01, -7.19566345e-02,  8.47244263e-02,  7.15560913e-02,\n        3.49464417e-02,  4.43538666e-01,  1.86832428e-01,  1.83151245e-01,\n        7.56645203e-02,  1.36604309e-02,  1.84684753e-01,  2.32395172e-01,\n        5.30677795e-01,  1.60377502e-01,  3.95355225e-01, -4.48989868e-02,\n        8.39321136e-01,  1.66053772e-02, -1.69792175e-02, -2.13699341e-02,\n        1.46427155e-01,  1.38156891e-01, -3.34930420e-02,  4.14844513e-01,\n        6.57314301e-01, -5.00488281e-03,  2.85873413e-02,  4.61616516e-02,\n       -7.21855164e-02,  2.73803711e-01,  5.28594971e-01, -5.90438843e-02,\n        8.43173981e-01,  3.25862885e-01,  3.18824768e-01,  3.64036560e-02,\n       -8.51974487e-02,  2.83367157e-01,  3.01342010e-01,  1.37790680e-01,\n        3.35834503e-01,  4.12467957e-01,  3.75205994e-01,  1.24046326e-01,\n        2.87857056e-01,  9.06200409e-01,  4.45533752e-01,  2.74761200e-01,\n       -6.55364990e-03,  6.91844940e-01,  6.71939850e-01,  1.15501404e-01,\n        7.74608612e-01,  9.94407654e-01,  5.87665558e-01,  3.14266205e-01,\n        2.26409912e-01, -4.47616577e-02,  2.25982666e-01,  2.30636597e-01,\n        3.55014801e-01, -1.26560211e-01,  3.53050232e-02,  1.82296753e-01,\n        2.15332031e-01,  1.76151276e-01, -2.96478271e-02,  1.00053024e+00,\n        1.88282013e-01,  7.52166748e-01,  6.19865417e-01,  7.17868805e-01,\n        3.15612793e-01,  2.23350525e-02,  3.26438904e-01, -6.90078735e-03,\n        2.81578064e-01, -2.27661133e-02,  7.99331665e-02, -2.31933594e-03,\n        3.57097626e-01,  1.36497498e-01,  2.65789032e-01,  1.39770508e-02,\n        2.21069336e-01,  7.07366943e-01,  1.59549713e-01,  2.04524994e-01,\n        5.38246155e-01, -1.52576447e-01,  2.54871368e-01,  2.76481628e-01,\n        2.63996124e-01,  6.68983459e-02,  9.74411011e-01,  2.00035095e-01,\n        7.55741119e-01, -3.49922180e-02,  4.87739563e-01,  5.88989258e-03,\n       -7.24487305e-02,  3.05580139e-01, -2.05074310e-01,  1.90959930e-01,\n       -2.46238708e-02, -7.71484375e-02,  2.78968811e-01,  7.84187317e-02,\n        2.33947754e-01,  4.44850922e-01,  6.62345886e-02, -3.31268311e-02,\n        5.83183289e-01,  5.77468872e-02,  3.20480347e-01,  7.24246979e-01,\n        1.35425568e-01, -2.21138000e-02,  7.33058929e-01, -3.08292389e-01,\n        1.09135818e+00,  2.85942078e-01,  8.85074615e-01,  6.96598053e-01,\n        5.85269928e-01, -2.22969055e-02,  9.52136993e-01,  7.14950562e-01,\n        4.48520660e-01,  5.80486298e-01,  1.87110901e-01,  2.29640961e-01,\n       -5.77812195e-02,  3.15258026e-01,  8.74675751e-01, -1.67541504e-02,\n        2.52506256e-01, -3.34930420e-02, -4.39720154e-02,  4.13513184e-02,\n        2.35958099e-01,  2.03025818e-01,  8.81965637e-01,  5.87280273e-01,\n        1.20044708e-01, -2.02217102e-02, -1.93138123e-02,  1.03530884e-01,\n        8.33129883e-03,  2.29125977e-01, -1.69448853e-02,  7.15026855e-02,\n        1.62666321e-01,  1.70112610e-01,  2.46578217e-01,  1.47735596e-01,\n        3.91811371e-01, -6.65817261e-02,  1.15653992e-01,  1.84452057e-01,\n        9.06867981e-02, -1.79901123e-02,  2.09281921e-01, -1.30348206e-02,\n        5.46470642e-01,  4.15870667e-01,  1.78188324e-01,  1.72271729e-02,\n        4.93881226e-01,  1.47155762e-01,  5.24749756e-01,  5.98033905e-01,\n        3.08254242e-01,  3.09268951e-01,  4.46487427e-01,  1.68167114e-01,\n        2.60776520e-01,  7.56248474e-01,  4.06166077e-01,  4.90692139e-01,\n        5.14251709e-01, -1.30279541e-01,  7.90328979e-02,  3.50540161e-01,\n        1.00466919e+00,  2.73349762e-01,  6.35398865e-01,  5.78609467e-01,\n        4.68284607e-01,  3.74221802e-03,  3.59008789e-01,  6.74781799e-02,\n       -4.23622131e-02,  7.03350067e-01,  1.27120972e-01,  8.00086975e-01,\n        4.70825195e-01, -1.74293518e-02,  2.93655396e-02,  5.55225372e-01,\n        5.01289368e-02,  1.15310669e-01, -9.72747803e-03,  1.47521973e-01,\n        4.71206665e-01, -9.27085876e-02,  8.09020996e-02,  3.10173035e-02,\n        3.94783020e-01,  2.23731995e-01,  1.00332642e+00,  7.08122253e-01,\n        3.55991364e-01,  2.63015747e-01, -2.83584595e-02, -9.66262817e-03,\n        3.08990479e-02,  1.41769409e-01,  7.82546997e-02,  5.12680054e-01,\n        2.04792023e-01,  3.11748505e-01,  5.28457642e-01,  4.61933136e-01,\n        5.35430908e-02,  8.17276001e-01,  5.33882141e-01, -1.38202667e-01,\n        5.09506226e-01,  1.94084167e-01,  4.56134796e-01,  1.85203552e-01,\n        2.22095490e-01,  1.15657806e-01,  6.32820129e-02,  7.37152100e-02,\n        1.02481842e-01,  5.51410675e-01,  7.03029633e-01,  5.22144318e-01,\n        5.35140991e-01,  3.19824219e-02,  1.11064911e-01, -1.18610382e-01,\n        5.31845093e-01, -1.74411774e-01,  4.54452515e-01,  9.74384308e-01,\n        4.18205261e-01, -1.16016388e-01,  8.70727539e-01,  1.62200928e-01,\n        6.13147736e-01,  3.17241669e-01, -7.86437988e-02,  4.93953705e-01,\n        7.44869232e-01,  6.04896545e-02,  6.03904724e-02,  2.36877441e-01,\n        5.79231262e-01,  1.10710144e-01,  3.81809235e-01,  6.02245331e-01,\n        5.84831238e-02,  2.21874237e-01,  3.89110565e-01,  6.63791656e-01,\n        1.56127930e-01,  3.97319794e-01,  5.80158234e-01,  5.03841400e-01,\n        1.06437683e-01,  1.49784088e-01,  2.33306885e-01, -3.35311890e-03,\n       -2.86216736e-02,  2.65899658e-01,  2.60639191e-01, -6.16149902e-02,\n        1.46274567e-01,  8.24806213e-01,  5.68473816e-01, -9.56077576e-02,\n       -1.02416992e-01,  8.49685669e-02,  1.61651611e-01, -7.92617798e-02,\n        9.43901062e-01,  7.94181824e-02,  3.38443756e-01,  1.58008575e-01,\n       -6.93855286e-02,  2.15141296e-01,  4.78935242e-01,  2.15911865e-02,\n        5.34439087e-01,  1.42604828e-01, -1.58443451e-01,  9.98306274e-03,\n        2.26787567e-01,  3.34785461e-01,  6.04476929e-02, -2.08969116e-02,\n       -1.07864380e-01,  3.34346771e-01,  5.10166168e-01,  3.45989227e-01,\n       -8.66737366e-02, -4.99382019e-02,  5.05310059e-01,  8.22296143e-02,\n        6.74781799e-02,  3.23127747e-01,  3.38222504e-01,  5.37277222e-01,\n        2.91851044e-01,  3.30558777e-01, -4.10842896e-02,  8.27472687e-01,\n        6.03469849e-01,  2.36690521e-01,  7.02400208e-01,  4.44671631e-01,\n        5.81176758e-01,  1.90063477e-01,  5.44776917e-02,  9.38415527e-02,\n       -6.77146912e-02,  1.05998993e-01, -2.49328613e-02, -2.94265747e-02,\n        6.56166077e-02,  9.60693359e-02,  1.03294373e-01,  1.77726746e-01,\n        1.02096558e-01,  6.64226532e-01,  1.97719574e-01,  1.04694366e-01,\n        1.13426208e-01, -3.24401855e-02,  1.46568298e-01,  4.64950562e-01,\n        7.55569458e-01,  2.03933716e-01,  4.90165710e-01, -1.01329803e-01,\n        6.61689758e-01,  7.53528595e-01,  9.01111603e-01,  7.73017883e-01,\n        2.73506165e-01,  2.98076630e-01,  1.87149048e-01,  7.19940186e-01,\n        2.29789734e-01,  3.34697723e-01,  8.51551056e-01,  3.06587219e-02,\n       -3.69644165e-03, -7.81784058e-02,  7.49885559e-01,  2.04681396e-01,\n        4.06051636e-01,  3.32252502e-01,  1.82044983e-01,  8.23406219e-01,\n        5.03276825e-01,  6.34056091e-01, -5.08499146e-02,  4.26254272e-02,\n        1.11125946e-01,  1.89224243e-01,  6.01032257e-01,  4.09084320e-01,\n        6.87740326e-01,  2.89924622e-01, -9.20143127e-02,  4.46701050e-02,\n        1.98989868e-01,  6.18919373e-01,  1.41929626e-01,  6.98940277e-01,\n        3.11843872e-01,  1.26808167e-01,  8.11508179e-01,  6.24809265e-02,\n       -1.04461670e-01,  6.59599304e-02,  1.23672485e-01,  5.18688202e-01,\n       -5.96542358e-02,  6.39770508e-01, -1.29547119e-02,  3.84521484e-02,\n       -1.04869843e-01,  1.96483612e-01,  3.36135864e-01,  4.88002777e-01,\n        1.93790436e-01,  7.93289185e-01,  1.69429779e-01,  8.56323242e-02,\n        1.68640137e-01,  1.73233032e-01,  3.24287415e-02,  4.69253540e-01,\n        2.03086853e-01,  8.46744537e-01,  4.20871735e-01,  2.17918396e-01,\n        1.81140900e-01,  1.54884338e-01,  7.26387024e-01,  4.45289612e-01,\n        4.87518311e-01,  1.01676941e-01,  4.13116455e-01, -1.13174438e-01,\n        1.79359436e-01, -9.75418091e-03,  1.39041901e-01,  1.11999512e-01,\n        6.09588623e-01,  2.16484070e-02,  1.88278198e-01, -1.35349274e-01,\n        7.06462860e-01,  4.33128357e-01, -5.83457947e-02,  9.28737640e-01,\n        5.40687561e-01, -1.64031982e-03,  9.19029236e-01, -2.19268799e-02,\n        1.65508270e-01,  1.77875519e-01,  4.72927094e-01, -2.81524658e-03,\n        4.00413513e-01,  1.41868591e-02,  1.95358276e-01, -6.80503845e-02,\n        5.87287903e-01,  1.92417145e-01,  2.33425140e-01,  2.73635864e-01,\n        9.40689087e-01,  7.10163116e-01,  1.33369446e-01,  7.37686157e-02,\n        5.58624268e-02, -2.26379395e-01,  4.11300659e-02,  5.17234802e-02,\n        3.10325623e-02,  2.93575287e-01,  9.69402313e-01,  7.98648834e-01,\n       -2.30140686e-02,  5.26771545e-02,  2.64831543e-01,  1.75128937e-01,\n        7.06302643e-01,  1.73835754e-01,  3.44318390e-01])"
          },
          "metadata": {}
        }
      ]
    },
    {
      "cell_type": "markdown",
      "source": "#### Q4) Using the `predictions` and the `y_test` dataframe calculate the value for each metric using the appropriate function.\n",
      "metadata": {}
    },
    {
      "cell_type": "code",
      "source": "#Enter Your Code, Execute and take the Screenshot",
      "metadata": {},
      "execution_count": null,
      "outputs": []
    },
    {
      "cell_type": "code",
      "source": "#Importing the metrics\nfrom sklearn import metrics\n\nLinearRegression_MAE =  metrics.mean_absolute_error(y_test, predictions)\nLinearRegression_MSE = metrics.mean_squared_error(y_test, predictions)\nLinearRegression_R2 = np.sqrt(metrics.mean_squared_error(y_test, predictions))",
      "metadata": {
        "trusted": true
      },
      "execution_count": 34,
      "outputs": []
    },
    {
      "cell_type": "code",
      "source": "#Seeing the result\nprint(\"LinearRegression_MAE: \", LinearRegression_MAE, \"LinearRegression_MSE:\", LinearRegression_MSE, \"LinearRegression_R2: \", LinearRegression_R2)",
      "metadata": {
        "trusted": true
      },
      "execution_count": 35,
      "outputs": [
        {
          "name": "stdout",
          "text": "LinearRegression_MAE:  0.2563193284828244 LinearRegression_MSE: 0.1157212427649327 LinearRegression_R2:  0.34017825145786834\n",
          "output_type": "stream"
        }
      ]
    },
    {
      "cell_type": "markdown",
      "source": "#### Q5) Show the MAE, MSE, and R2 in a tabular format using data frame for the linear model.\n",
      "metadata": {}
    },
    {
      "cell_type": "code",
      "source": "#Enter Your Code, Execute and take the Screenshot",
      "metadata": {},
      "execution_count": null,
      "outputs": []
    },
    {
      "cell_type": "code",
      "source": "#Creating the report \nReport = {\"Metrics\": [\"MAE\", \"MSE\", \"R2\"], \"Result\": [LinearRegression_MAE, LinearRegression_MSE, LinearRegression_R2]}\n#converting the report to a dataframe to show it \npd.DataFrame(Report)",
      "metadata": {
        "trusted": true
      },
      "execution_count": 36,
      "outputs": [
        {
          "execution_count": 36,
          "output_type": "execute_result",
          "data": {
            "text/plain": "  Metrics    Result\n0     MAE  0.256319\n1     MSE  0.115721\n2      R2  0.340178",
            "text/html": "<div>\n<style scoped>\n    .dataframe tbody tr th:only-of-type {\n        vertical-align: middle;\n    }\n\n    .dataframe tbody tr th {\n        vertical-align: top;\n    }\n\n    .dataframe thead th {\n        text-align: right;\n    }\n</style>\n<table border=\"1\" class=\"dataframe\">\n  <thead>\n    <tr style=\"text-align: right;\">\n      <th></th>\n      <th>Metrics</th>\n      <th>Result</th>\n    </tr>\n  </thead>\n  <tbody>\n    <tr>\n      <th>0</th>\n      <td>MAE</td>\n      <td>0.256319</td>\n    </tr>\n    <tr>\n      <th>1</th>\n      <td>MSE</td>\n      <td>0.115721</td>\n    </tr>\n    <tr>\n      <th>2</th>\n      <td>R2</td>\n      <td>0.340178</td>\n    </tr>\n  </tbody>\n</table>\n</div>"
          },
          "metadata": {}
        }
      ]
    },
    {
      "cell_type": "markdown",
      "source": "### KNN\n",
      "metadata": {}
    },
    {
      "cell_type": "markdown",
      "source": "#### Q6) Create and train a KNN model called KNN using the training data (`x_train`, `y_train`) with the `n_neighbors` parameter set to `4`.\n",
      "metadata": {}
    },
    {
      "cell_type": "code",
      "source": "#Enter Your Code Below, Execute, and Save the Screenshot of the Final Output",
      "metadata": {},
      "execution_count": null,
      "outputs": []
    },
    {
      "cell_type": "code",
      "source": "#Importing the KNeighborsClassifier\nfrom sklearn.neighbors import KNeighborsClassifier\n#Ceating the model of KNeighborsClassifier\nKNN = KNeighborsClassifier(n_neighbors = 4)\n#Fitting the model \nKNN.fit(x_train, y_train)",
      "metadata": {
        "trusted": true
      },
      "execution_count": 37,
      "outputs": [
        {
          "execution_count": 37,
          "output_type": "execute_result",
          "data": {
            "text/plain": "KNeighborsClassifier(n_neighbors=4)",
            "text/html": "<style>#sk-container-id-2 {color: black;background-color: white;}#sk-container-id-2 pre{padding: 0;}#sk-container-id-2 div.sk-toggleable {background-color: white;}#sk-container-id-2 label.sk-toggleable__label {cursor: pointer;display: block;width: 100%;margin-bottom: 0;padding: 0.3em;box-sizing: border-box;text-align: center;}#sk-container-id-2 label.sk-toggleable__label-arrow:before {content: \"▸\";float: left;margin-right: 0.25em;color: #696969;}#sk-container-id-2 label.sk-toggleable__label-arrow:hover:before {color: black;}#sk-container-id-2 div.sk-estimator:hover label.sk-toggleable__label-arrow:before {color: black;}#sk-container-id-2 div.sk-toggleable__content {max-height: 0;max-width: 0;overflow: hidden;text-align: left;background-color: #f0f8ff;}#sk-container-id-2 div.sk-toggleable__content pre {margin: 0.2em;color: black;border-radius: 0.25em;background-color: #f0f8ff;}#sk-container-id-2 input.sk-toggleable__control:checked~div.sk-toggleable__content {max-height: 200px;max-width: 100%;overflow: auto;}#sk-container-id-2 input.sk-toggleable__control:checked~label.sk-toggleable__label-arrow:before {content: \"▾\";}#sk-container-id-2 div.sk-estimator input.sk-toggleable__control:checked~label.sk-toggleable__label {background-color: #d4ebff;}#sk-container-id-2 div.sk-label input.sk-toggleable__control:checked~label.sk-toggleable__label {background-color: #d4ebff;}#sk-container-id-2 input.sk-hidden--visually {border: 0;clip: rect(1px 1px 1px 1px);clip: rect(1px, 1px, 1px, 1px);height: 1px;margin: -1px;overflow: hidden;padding: 0;position: absolute;width: 1px;}#sk-container-id-2 div.sk-estimator {font-family: monospace;background-color: #f0f8ff;border: 1px dotted black;border-radius: 0.25em;box-sizing: border-box;margin-bottom: 0.5em;}#sk-container-id-2 div.sk-estimator:hover {background-color: #d4ebff;}#sk-container-id-2 div.sk-parallel-item::after {content: \"\";width: 100%;border-bottom: 1px solid gray;flex-grow: 1;}#sk-container-id-2 div.sk-label:hover label.sk-toggleable__label {background-color: #d4ebff;}#sk-container-id-2 div.sk-serial::before {content: \"\";position: absolute;border-left: 1px solid gray;box-sizing: border-box;top: 0;bottom: 0;left: 50%;z-index: 0;}#sk-container-id-2 div.sk-serial {display: flex;flex-direction: column;align-items: center;background-color: white;padding-right: 0.2em;padding-left: 0.2em;position: relative;}#sk-container-id-2 div.sk-item {position: relative;z-index: 1;}#sk-container-id-2 div.sk-parallel {display: flex;align-items: stretch;justify-content: center;background-color: white;position: relative;}#sk-container-id-2 div.sk-item::before, #sk-container-id-2 div.sk-parallel-item::before {content: \"\";position: absolute;border-left: 1px solid gray;box-sizing: border-box;top: 0;bottom: 0;left: 50%;z-index: -1;}#sk-container-id-2 div.sk-parallel-item {display: flex;flex-direction: column;z-index: 1;position: relative;background-color: white;}#sk-container-id-2 div.sk-parallel-item:first-child::after {align-self: flex-end;width: 50%;}#sk-container-id-2 div.sk-parallel-item:last-child::after {align-self: flex-start;width: 50%;}#sk-container-id-2 div.sk-parallel-item:only-child::after {width: 0;}#sk-container-id-2 div.sk-dashed-wrapped {border: 1px dashed gray;margin: 0 0.4em 0.5em 0.4em;box-sizing: border-box;padding-bottom: 0.4em;background-color: white;}#sk-container-id-2 div.sk-label label {font-family: monospace;font-weight: bold;display: inline-block;line-height: 1.2em;}#sk-container-id-2 div.sk-label-container {text-align: center;}#sk-container-id-2 div.sk-container {/* jupyter's `normalize.less` sets `[hidden] { display: none; }` but bootstrap.min.css set `[hidden] { display: none !important; }` so we also need the `!important` here to be able to override the default hidden behavior on the sphinx rendered scikit-learn.org. See: https://github.com/scikit-learn/scikit-learn/issues/21755 */display: inline-block !important;position: relative;}#sk-container-id-2 div.sk-text-repr-fallback {display: none;}</style><div id=\"sk-container-id-2\" class=\"sk-top-container\"><div class=\"sk-text-repr-fallback\"><pre>KNeighborsClassifier(n_neighbors=4)</pre><b>In a Jupyter environment, please rerun this cell to show the HTML representation or trust the notebook. <br />On GitHub, the HTML representation is unable to render, please try loading this page with nbviewer.org.</b></div><div class=\"sk-container\" hidden><div class=\"sk-item\"><div class=\"sk-estimator sk-toggleable\"><input class=\"sk-toggleable__control sk-hidden--visually\" id=\"sk-estimator-id-2\" type=\"checkbox\" checked><label for=\"sk-estimator-id-2\" class=\"sk-toggleable__label sk-toggleable__label-arrow\">KNeighborsClassifier</label><div class=\"sk-toggleable__content\"><pre>KNeighborsClassifier(n_neighbors=4)</pre></div></div></div></div></div>"
          },
          "metadata": {}
        }
      ]
    },
    {
      "cell_type": "markdown",
      "source": "#### Q7) Now use the `predict` method on the testing data (`x_test`) and save it to the array `predictions`.\n",
      "metadata": {}
    },
    {
      "cell_type": "code",
      "source": "#Enter Your Code Below, Execute, and Save the Screenshot of the Final Output",
      "metadata": {},
      "execution_count": null,
      "outputs": []
    },
    {
      "cell_type": "code",
      "source": "predictions = KNN.predict(x_test)\npredictions[0:5]",
      "metadata": {
        "trusted": true
      },
      "execution_count": 38,
      "outputs": [
        {
          "execution_count": 38,
          "output_type": "execute_result",
          "data": {
            "text/plain": "array([0., 0., 1., 0., 0.])"
          },
          "metadata": {}
        }
      ]
    },
    {
      "cell_type": "markdown",
      "source": "#### Q8) Using the `predictions` and the `y_test` dataframe calculate the value for each metric using the appropriate function.\n",
      "metadata": {}
    },
    {
      "cell_type": "code",
      "source": "#Enter Your Code Below, Execute, and Save the Screenshot of the Final Output",
      "metadata": {},
      "execution_count": null,
      "outputs": []
    },
    {
      "cell_type": "code",
      "source": "KNN_Accuracy_Score = metrics.accuracy_score(y_test, predictions)\nKNN_JaccardIndex = jaccard_score(y_test, predictions,pos_label=0)\nKNN_F1_Score = f1_score(y_test, predictions, pos_label=1, average='binary')",
      "metadata": {
        "trusted": true
      },
      "execution_count": 39,
      "outputs": []
    },
    {
      "cell_type": "code",
      "source": "Report_2 = {\"Metrics KNN\":[\"Accuracy\",\"JaccardIndex\",\"F1Score\"],\"Result\": \n[KNN_Accuracy_Score ,KNN_JaccardIndex,KNN_F1_Score]}\npd.DataFrame(Report_2)",
      "metadata": {
        "trusted": true
      },
      "execution_count": 40,
      "outputs": [
        {
          "execution_count": 40,
          "output_type": "execute_result",
          "data": {
            "text/plain": "    Metrics KNN    Result\n0      Accuracy  0.818321\n1  JaccardIndex  0.790123\n2       F1Score  0.596610",
            "text/html": "<div>\n<style scoped>\n    .dataframe tbody tr th:only-of-type {\n        vertical-align: middle;\n    }\n\n    .dataframe tbody tr th {\n        vertical-align: top;\n    }\n\n    .dataframe thead th {\n        text-align: right;\n    }\n</style>\n<table border=\"1\" class=\"dataframe\">\n  <thead>\n    <tr style=\"text-align: right;\">\n      <th></th>\n      <th>Metrics KNN</th>\n      <th>Result</th>\n    </tr>\n  </thead>\n  <tbody>\n    <tr>\n      <th>0</th>\n      <td>Accuracy</td>\n      <td>0.818321</td>\n    </tr>\n    <tr>\n      <th>1</th>\n      <td>JaccardIndex</td>\n      <td>0.790123</td>\n    </tr>\n    <tr>\n      <th>2</th>\n      <td>F1Score</td>\n      <td>0.596610</td>\n    </tr>\n  </tbody>\n</table>\n</div>"
          },
          "metadata": {}
        }
      ]
    },
    {
      "cell_type": "markdown",
      "source": "### Decision Tree\n",
      "metadata": {}
    },
    {
      "cell_type": "markdown",
      "source": "#### Q9) Create and train a Decision Tree model called Tree using the training data (`x_train`, `y_train`).\n",
      "metadata": {}
    },
    {
      "cell_type": "code",
      "source": "#Enter Your Code, Execute and take the Screenshot",
      "metadata": {},
      "execution_count": null,
      "outputs": []
    },
    {
      "cell_type": "code",
      "source": "from sklearn import tree\nTree = DecisionTreeClassifier()\nTree.fit(x_train, y_train)",
      "metadata": {
        "trusted": true
      },
      "execution_count": 41,
      "outputs": [
        {
          "execution_count": 41,
          "output_type": "execute_result",
          "data": {
            "text/plain": "DecisionTreeClassifier()",
            "text/html": "<style>#sk-container-id-3 {color: black;background-color: white;}#sk-container-id-3 pre{padding: 0;}#sk-container-id-3 div.sk-toggleable {background-color: white;}#sk-container-id-3 label.sk-toggleable__label {cursor: pointer;display: block;width: 100%;margin-bottom: 0;padding: 0.3em;box-sizing: border-box;text-align: center;}#sk-container-id-3 label.sk-toggleable__label-arrow:before {content: \"▸\";float: left;margin-right: 0.25em;color: #696969;}#sk-container-id-3 label.sk-toggleable__label-arrow:hover:before {color: black;}#sk-container-id-3 div.sk-estimator:hover label.sk-toggleable__label-arrow:before {color: black;}#sk-container-id-3 div.sk-toggleable__content {max-height: 0;max-width: 0;overflow: hidden;text-align: left;background-color: #f0f8ff;}#sk-container-id-3 div.sk-toggleable__content pre {margin: 0.2em;color: black;border-radius: 0.25em;background-color: #f0f8ff;}#sk-container-id-3 input.sk-toggleable__control:checked~div.sk-toggleable__content {max-height: 200px;max-width: 100%;overflow: auto;}#sk-container-id-3 input.sk-toggleable__control:checked~label.sk-toggleable__label-arrow:before {content: \"▾\";}#sk-container-id-3 div.sk-estimator input.sk-toggleable__control:checked~label.sk-toggleable__label {background-color: #d4ebff;}#sk-container-id-3 div.sk-label input.sk-toggleable__control:checked~label.sk-toggleable__label {background-color: #d4ebff;}#sk-container-id-3 input.sk-hidden--visually {border: 0;clip: rect(1px 1px 1px 1px);clip: rect(1px, 1px, 1px, 1px);height: 1px;margin: -1px;overflow: hidden;padding: 0;position: absolute;width: 1px;}#sk-container-id-3 div.sk-estimator {font-family: monospace;background-color: #f0f8ff;border: 1px dotted black;border-radius: 0.25em;box-sizing: border-box;margin-bottom: 0.5em;}#sk-container-id-3 div.sk-estimator:hover {background-color: #d4ebff;}#sk-container-id-3 div.sk-parallel-item::after {content: \"\";width: 100%;border-bottom: 1px solid gray;flex-grow: 1;}#sk-container-id-3 div.sk-label:hover label.sk-toggleable__label {background-color: #d4ebff;}#sk-container-id-3 div.sk-serial::before {content: \"\";position: absolute;border-left: 1px solid gray;box-sizing: border-box;top: 0;bottom: 0;left: 50%;z-index: 0;}#sk-container-id-3 div.sk-serial {display: flex;flex-direction: column;align-items: center;background-color: white;padding-right: 0.2em;padding-left: 0.2em;position: relative;}#sk-container-id-3 div.sk-item {position: relative;z-index: 1;}#sk-container-id-3 div.sk-parallel {display: flex;align-items: stretch;justify-content: center;background-color: white;position: relative;}#sk-container-id-3 div.sk-item::before, #sk-container-id-3 div.sk-parallel-item::before {content: \"\";position: absolute;border-left: 1px solid gray;box-sizing: border-box;top: 0;bottom: 0;left: 50%;z-index: -1;}#sk-container-id-3 div.sk-parallel-item {display: flex;flex-direction: column;z-index: 1;position: relative;background-color: white;}#sk-container-id-3 div.sk-parallel-item:first-child::after {align-self: flex-end;width: 50%;}#sk-container-id-3 div.sk-parallel-item:last-child::after {align-self: flex-start;width: 50%;}#sk-container-id-3 div.sk-parallel-item:only-child::after {width: 0;}#sk-container-id-3 div.sk-dashed-wrapped {border: 1px dashed gray;margin: 0 0.4em 0.5em 0.4em;box-sizing: border-box;padding-bottom: 0.4em;background-color: white;}#sk-container-id-3 div.sk-label label {font-family: monospace;font-weight: bold;display: inline-block;line-height: 1.2em;}#sk-container-id-3 div.sk-label-container {text-align: center;}#sk-container-id-3 div.sk-container {/* jupyter's `normalize.less` sets `[hidden] { display: none; }` but bootstrap.min.css set `[hidden] { display: none !important; }` so we also need the `!important` here to be able to override the default hidden behavior on the sphinx rendered scikit-learn.org. See: https://github.com/scikit-learn/scikit-learn/issues/21755 */display: inline-block !important;position: relative;}#sk-container-id-3 div.sk-text-repr-fallback {display: none;}</style><div id=\"sk-container-id-3\" class=\"sk-top-container\"><div class=\"sk-text-repr-fallback\"><pre>DecisionTreeClassifier()</pre><b>In a Jupyter environment, please rerun this cell to show the HTML representation or trust the notebook. <br />On GitHub, the HTML representation is unable to render, please try loading this page with nbviewer.org.</b></div><div class=\"sk-container\" hidden><div class=\"sk-item\"><div class=\"sk-estimator sk-toggleable\"><input class=\"sk-toggleable__control sk-hidden--visually\" id=\"sk-estimator-id-3\" type=\"checkbox\" checked><label for=\"sk-estimator-id-3\" class=\"sk-toggleable__label sk-toggleable__label-arrow\">DecisionTreeClassifier</label><div class=\"sk-toggleable__content\"><pre>DecisionTreeClassifier()</pre></div></div></div></div></div>"
          },
          "metadata": {}
        }
      ]
    },
    {
      "cell_type": "markdown",
      "source": "#### Q10) Now use the `predict` method on the testing data (`x_test`) and save it to the array `predictions`.\n",
      "metadata": {}
    },
    {
      "cell_type": "code",
      "source": "#Enter Your Code, Execute and take the Screenshot",
      "metadata": {},
      "execution_count": null,
      "outputs": []
    },
    {
      "cell_type": "code",
      "source": "predictions = Tree.predict(x_test)",
      "metadata": {
        "trusted": true
      },
      "execution_count": 42,
      "outputs": []
    },
    {
      "cell_type": "markdown",
      "source": "#### Q11) Using the `predictions` and the `y_test` dataframe calculate the value for each metric using the appropriate function.\n",
      "metadata": {}
    },
    {
      "cell_type": "code",
      "source": "#Enter Your Code, Execute and take the Screenshot",
      "metadata": {},
      "execution_count": null,
      "outputs": []
    },
    {
      "cell_type": "code",
      "source": "from sklearn.metrics import accuracy_score\nTree_Accuracy_Score = accuracy_score(y_test, predictions)\nTree_JaccardIndex = jaccard_score(y_test, predictions, pos_label=0)\nTree_F1_Score = f1_score(y_test, predictions)\n\nReport_3 = {\"Metrics Tree\":[\"Accuracy\",\"JaccardIndex\",\"F1Score\"],\"Result\": \n[Tree_Accuracy_Score ,Tree_JaccardIndex,Tree_F1_Score]}\npd.DataFrame(Report_3)",
      "metadata": {
        "trusted": true
      },
      "execution_count": 43,
      "outputs": [
        {
          "execution_count": 43,
          "output_type": "execute_result",
          "data": {
            "text/plain": "   Metrics Tree    Result\n0      Accuracy  0.752672\n1  JaccardIndex  0.704918\n2       F1Score  0.566845",
            "text/html": "<div>\n<style scoped>\n    .dataframe tbody tr th:only-of-type {\n        vertical-align: middle;\n    }\n\n    .dataframe tbody tr th {\n        vertical-align: top;\n    }\n\n    .dataframe thead th {\n        text-align: right;\n    }\n</style>\n<table border=\"1\" class=\"dataframe\">\n  <thead>\n    <tr style=\"text-align: right;\">\n      <th></th>\n      <th>Metrics Tree</th>\n      <th>Result</th>\n    </tr>\n  </thead>\n  <tbody>\n    <tr>\n      <th>0</th>\n      <td>Accuracy</td>\n      <td>0.752672</td>\n    </tr>\n    <tr>\n      <th>1</th>\n      <td>JaccardIndex</td>\n      <td>0.704918</td>\n    </tr>\n    <tr>\n      <th>2</th>\n      <td>F1Score</td>\n      <td>0.566845</td>\n    </tr>\n  </tbody>\n</table>\n</div>"
          },
          "metadata": {}
        }
      ]
    },
    {
      "cell_type": "markdown",
      "source": "### Logistic Regression\n",
      "metadata": {}
    },
    {
      "cell_type": "markdown",
      "source": "#### Q12) Use the `train_test_split` function to split the `features` and `Y` dataframes with a `test_size` of `0.2` and the `random_state` set to `1`.\n",
      "metadata": {}
    },
    {
      "cell_type": "code",
      "source": "#Enter Your Code, Execute and take the Screenshot",
      "metadata": {},
      "execution_count": null,
      "outputs": []
    },
    {
      "cell_type": "code",
      "source": "X = features\ny = Y\nt = 0.2\nr = 1\nx_train, x_test, y_train, y_test = train_test_split(X, y, test_size=t, random_state=r)",
      "metadata": {
        "trusted": true
      },
      "execution_count": 44,
      "outputs": []
    },
    {
      "cell_type": "markdown",
      "source": "#### Q13) Create and train a LogisticRegression model called LR using the training data (`x_train`, `y_train`) with the `solver` parameter set to `liblinear`.\n",
      "metadata": {}
    },
    {
      "cell_type": "code",
      "source": "#Enter Your Code, Execute and take the Screenshot",
      "metadata": {},
      "execution_count": null,
      "outputs": []
    },
    {
      "cell_type": "code",
      "source": "LR = LogisticRegression(C=1.0, solver='liblinear')\nLR.fit(x_train, y_train)",
      "metadata": {
        "trusted": true
      },
      "execution_count": 45,
      "outputs": [
        {
          "execution_count": 45,
          "output_type": "execute_result",
          "data": {
            "text/plain": "LogisticRegression(solver='liblinear')",
            "text/html": "<style>#sk-container-id-4 {color: black;background-color: white;}#sk-container-id-4 pre{padding: 0;}#sk-container-id-4 div.sk-toggleable {background-color: white;}#sk-container-id-4 label.sk-toggleable__label {cursor: pointer;display: block;width: 100%;margin-bottom: 0;padding: 0.3em;box-sizing: border-box;text-align: center;}#sk-container-id-4 label.sk-toggleable__label-arrow:before {content: \"▸\";float: left;margin-right: 0.25em;color: #696969;}#sk-container-id-4 label.sk-toggleable__label-arrow:hover:before {color: black;}#sk-container-id-4 div.sk-estimator:hover label.sk-toggleable__label-arrow:before {color: black;}#sk-container-id-4 div.sk-toggleable__content {max-height: 0;max-width: 0;overflow: hidden;text-align: left;background-color: #f0f8ff;}#sk-container-id-4 div.sk-toggleable__content pre {margin: 0.2em;color: black;border-radius: 0.25em;background-color: #f0f8ff;}#sk-container-id-4 input.sk-toggleable__control:checked~div.sk-toggleable__content {max-height: 200px;max-width: 100%;overflow: auto;}#sk-container-id-4 input.sk-toggleable__control:checked~label.sk-toggleable__label-arrow:before {content: \"▾\";}#sk-container-id-4 div.sk-estimator input.sk-toggleable__control:checked~label.sk-toggleable__label {background-color: #d4ebff;}#sk-container-id-4 div.sk-label input.sk-toggleable__control:checked~label.sk-toggleable__label {background-color: #d4ebff;}#sk-container-id-4 input.sk-hidden--visually {border: 0;clip: rect(1px 1px 1px 1px);clip: rect(1px, 1px, 1px, 1px);height: 1px;margin: -1px;overflow: hidden;padding: 0;position: absolute;width: 1px;}#sk-container-id-4 div.sk-estimator {font-family: monospace;background-color: #f0f8ff;border: 1px dotted black;border-radius: 0.25em;box-sizing: border-box;margin-bottom: 0.5em;}#sk-container-id-4 div.sk-estimator:hover {background-color: #d4ebff;}#sk-container-id-4 div.sk-parallel-item::after {content: \"\";width: 100%;border-bottom: 1px solid gray;flex-grow: 1;}#sk-container-id-4 div.sk-label:hover label.sk-toggleable__label {background-color: #d4ebff;}#sk-container-id-4 div.sk-serial::before {content: \"\";position: absolute;border-left: 1px solid gray;box-sizing: border-box;top: 0;bottom: 0;left: 50%;z-index: 0;}#sk-container-id-4 div.sk-serial {display: flex;flex-direction: column;align-items: center;background-color: white;padding-right: 0.2em;padding-left: 0.2em;position: relative;}#sk-container-id-4 div.sk-item {position: relative;z-index: 1;}#sk-container-id-4 div.sk-parallel {display: flex;align-items: stretch;justify-content: center;background-color: white;position: relative;}#sk-container-id-4 div.sk-item::before, #sk-container-id-4 div.sk-parallel-item::before {content: \"\";position: absolute;border-left: 1px solid gray;box-sizing: border-box;top: 0;bottom: 0;left: 50%;z-index: -1;}#sk-container-id-4 div.sk-parallel-item {display: flex;flex-direction: column;z-index: 1;position: relative;background-color: white;}#sk-container-id-4 div.sk-parallel-item:first-child::after {align-self: flex-end;width: 50%;}#sk-container-id-4 div.sk-parallel-item:last-child::after {align-self: flex-start;width: 50%;}#sk-container-id-4 div.sk-parallel-item:only-child::after {width: 0;}#sk-container-id-4 div.sk-dashed-wrapped {border: 1px dashed gray;margin: 0 0.4em 0.5em 0.4em;box-sizing: border-box;padding-bottom: 0.4em;background-color: white;}#sk-container-id-4 div.sk-label label {font-family: monospace;font-weight: bold;display: inline-block;line-height: 1.2em;}#sk-container-id-4 div.sk-label-container {text-align: center;}#sk-container-id-4 div.sk-container {/* jupyter's `normalize.less` sets `[hidden] { display: none; }` but bootstrap.min.css set `[hidden] { display: none !important; }` so we also need the `!important` here to be able to override the default hidden behavior on the sphinx rendered scikit-learn.org. See: https://github.com/scikit-learn/scikit-learn/issues/21755 */display: inline-block !important;position: relative;}#sk-container-id-4 div.sk-text-repr-fallback {display: none;}</style><div id=\"sk-container-id-4\" class=\"sk-top-container\"><div class=\"sk-text-repr-fallback\"><pre>LogisticRegression(solver=&#x27;liblinear&#x27;)</pre><b>In a Jupyter environment, please rerun this cell to show the HTML representation or trust the notebook. <br />On GitHub, the HTML representation is unable to render, please try loading this page with nbviewer.org.</b></div><div class=\"sk-container\" hidden><div class=\"sk-item\"><div class=\"sk-estimator sk-toggleable\"><input class=\"sk-toggleable__control sk-hidden--visually\" id=\"sk-estimator-id-4\" type=\"checkbox\" checked><label for=\"sk-estimator-id-4\" class=\"sk-toggleable__label sk-toggleable__label-arrow\">LogisticRegression</label><div class=\"sk-toggleable__content\"><pre>LogisticRegression(solver=&#x27;liblinear&#x27;)</pre></div></div></div></div></div>"
          },
          "metadata": {}
        }
      ]
    },
    {
      "cell_type": "markdown",
      "source": "#### Q14) Now, use the `predict` and `predict_proba` methods on the testing data (`x_test`) and save it as 2 arrays `predictions` and `predict_proba`.\n",
      "metadata": {}
    },
    {
      "cell_type": "code",
      "source": "#Enter Your Code, Execute and take the Screenshot",
      "metadata": {},
      "execution_count": null,
      "outputs": []
    },
    {
      "cell_type": "code",
      "source": "predictions = LR.predict(x_test)\npredictions",
      "metadata": {
        "trusted": true
      },
      "execution_count": 46,
      "outputs": [
        {
          "execution_count": 46,
          "output_type": "execute_result",
          "data": {
            "text/plain": "array([0., 0., 0., 0., 0., 1., 0., 0., 0., 0., 1., 1., 0., 0., 0., 0., 1.,\n       0., 0., 0., 1., 1., 0., 0., 0., 0., 0., 0., 0., 0., 0., 0., 0., 1.,\n       1., 1., 1., 0., 1., 0., 0., 0., 0., 0., 0., 0., 0., 0., 0., 0., 1.,\n       0., 1., 0., 1., 1., 0., 0., 0., 0., 0., 0., 0., 0., 0., 0., 0., 0.,\n       0., 0., 0., 1., 0., 0., 0., 0., 0., 0., 0., 0., 0., 0., 0., 0., 1.,\n       0., 0., 0., 1., 0., 0., 1., 0., 0., 1., 0., 0., 0., 0., 0., 0., 1.,\n       0., 1., 1., 0., 0., 0., 0., 0., 0., 0., 1., 1., 0., 0., 1., 0., 0.,\n       0., 1., 0., 0., 0., 0., 0., 0., 0., 0., 0., 0., 0., 0., 0., 1., 1.,\n       0., 0., 0., 1., 0., 1., 0., 0., 0., 1., 0., 1., 1., 0., 0., 0., 1.,\n       0., 0., 1., 0., 0., 1., 0., 1., 0., 1., 1., 0., 0., 0., 0., 0., 0.,\n       0., 0., 0., 1., 0., 0., 0., 0., 0., 1., 1., 0., 0., 0., 1., 1., 0.,\n       0., 0., 0., 0., 0., 1., 0., 0., 1., 0., 1., 0., 0., 0., 0., 0., 0.,\n       0., 1., 1., 0., 0., 1., 0., 0., 0., 1., 0., 0., 0., 1., 0., 0., 0.,\n       1., 0., 1., 1., 0., 0., 0., 0., 0., 1., 1., 0., 0., 0., 0., 0., 0.,\n       0., 1., 0., 0., 1., 0., 0., 0., 1., 1., 1., 0., 0., 0., 0., 0., 1.,\n       0., 0., 0., 0., 1., 1., 1., 0., 0., 0., 0., 0., 0., 0., 0., 0., 0.,\n       0., 0., 0., 0., 0., 0., 1., 0., 0., 0., 1., 1., 1., 0., 0., 0., 0.,\n       1., 1., 0., 0., 0., 0., 1., 0., 0., 0., 0., 1., 0., 0., 0., 0., 1.,\n       1., 0., 0., 0., 1., 0., 0., 0., 0., 1., 0., 0., 0., 0., 0., 0., 0.,\n       0., 0., 1., 0., 0., 1., 1., 0., 0., 1., 0., 0., 0., 0., 0., 0., 0.,\n       1., 1., 0., 0., 1., 1., 1., 0., 1., 0., 0., 1., 0., 0., 0., 0., 0.,\n       0., 0., 0., 0., 0., 0., 0., 0., 1., 0., 0., 0., 0., 0., 0., 0., 0.,\n       0., 1., 0., 0., 1., 0., 0., 0., 0., 0., 0., 0., 0., 0., 1., 1., 0.,\n       0., 0., 0., 0., 0., 1., 0., 0., 0., 0., 0., 0., 0., 0., 0., 0., 0.,\n       0., 0., 0., 0., 0., 0., 0., 0., 0., 0., 0., 0., 0., 0., 0., 0., 0.,\n       0., 0., 0., 0., 0., 0., 0., 1., 1., 0., 0., 0., 0., 0., 0., 1., 1.,\n       1., 0., 0., 0., 1., 0., 1., 0., 0., 0., 0., 1., 0., 0., 0., 0., 0.,\n       0., 1., 0., 0., 1., 1., 0., 0., 1., 0., 0., 0., 0., 0., 1., 0., 0.,\n       1., 0., 0., 0., 0., 0., 0., 0., 0., 0., 1., 0., 0., 1., 1., 0., 1.,\n       0., 0., 0., 0., 0., 1., 0., 0., 1., 0., 0., 0., 0., 0., 0., 1., 0.,\n       0., 0., 0., 0., 0., 1., 0., 0., 1., 0., 0., 0., 0., 0., 0., 0., 0.,\n       0., 0., 0., 0., 0., 0., 0., 1., 0., 1., 0., 0., 1., 0., 0., 0., 0.,\n       0., 1., 0., 0., 0., 0., 0., 0., 0., 0., 1., 0., 0., 0., 0., 0., 0.,\n       0., 1., 1., 0., 0., 0., 0., 0., 0., 0., 1., 1., 0., 0., 0., 0., 0.,\n       0., 0., 0., 0., 0., 1., 0., 1., 0., 0., 0., 0., 1., 0., 0., 0., 0.,\n       0., 0., 0., 1., 1., 0., 0., 1., 0., 0., 0., 0., 0., 0., 0., 0., 0.,\n       0., 0., 0., 0., 1., 0., 0., 0., 0., 1., 0., 1., 0., 0., 1., 0., 0.,\n       0., 0., 1., 0., 0., 1., 1., 0., 0., 0., 1., 0., 1., 0., 0., 1., 0.,\n       0., 0., 1., 0., 1., 0., 0., 0., 1.])"
          },
          "metadata": {}
        }
      ]
    },
    {
      "cell_type": "code",
      "source": "predict_proba = LR.predict_proba(x_test)\npredict_proba",
      "metadata": {
        "trusted": true
      },
      "execution_count": 48,
      "outputs": [
        {
          "execution_count": 48,
          "output_type": "execute_result",
          "data": {
            "text/plain": "array([[0.74010003, 0.25989997],\n       [0.97550665, 0.02449335],\n       [0.52853719, 0.47146281],\n       ...,\n       [0.97960144, 0.02039856],\n       [0.69603103, 0.30396897],\n       [0.21184405, 0.78815595]])"
          },
          "metadata": {}
        }
      ]
    },
    {
      "cell_type": "markdown",
      "source": "#### Q15) Using the `predictions`, `predict_proba` and the `y_test` dataframe calculate the value for each metric using the appropriate function.\n",
      "metadata": {}
    },
    {
      "cell_type": "code",
      "source": "#Enter Your Code, Execute and take the Screenshot",
      "metadata": {},
      "execution_count": null,
      "outputs": []
    },
    {
      "cell_type": "code",
      "source": "LR_Accuracy_Score = metrics.accuracy_score(y_test, predictions)\nLR_JaccardIndex = jaccard_score(y_test, predictions,pos_label=0)\nLR_F1_Score = f1_score(y_test, predictions, pos_label=1, average='binary')\nLR_Log_Loss = log_loss(y_test, predictions)\n\nReport_4 = {\"Metrics Logistic Regression\":[\"Accuracy\",\"JaccardIndex\",\"F1Score\",\"LogLoss\"],\"Result\": \n[LR_Accuracy_Score ,LR_JaccardIndex, LR_F1_Score,LR_Log_Loss]}\npd.DataFrame(Report_4)",
      "metadata": {
        "trusted": true
      },
      "execution_count": 49,
      "outputs": [
        {
          "execution_count": 49,
          "output_type": "execute_result",
          "data": {
            "text/plain": "  Metrics Logistic Regression    Result\n0                    Accuracy  0.836641\n1                JaccardIndex  0.803309\n2                     F1Score  0.674772\n3                     LogLoss  5.888047",
            "text/html": "<div>\n<style scoped>\n    .dataframe tbody tr th:only-of-type {\n        vertical-align: middle;\n    }\n\n    .dataframe tbody tr th {\n        vertical-align: top;\n    }\n\n    .dataframe thead th {\n        text-align: right;\n    }\n</style>\n<table border=\"1\" class=\"dataframe\">\n  <thead>\n    <tr style=\"text-align: right;\">\n      <th></th>\n      <th>Metrics Logistic Regression</th>\n      <th>Result</th>\n    </tr>\n  </thead>\n  <tbody>\n    <tr>\n      <th>0</th>\n      <td>Accuracy</td>\n      <td>0.836641</td>\n    </tr>\n    <tr>\n      <th>1</th>\n      <td>JaccardIndex</td>\n      <td>0.803309</td>\n    </tr>\n    <tr>\n      <th>2</th>\n      <td>F1Score</td>\n      <td>0.674772</td>\n    </tr>\n    <tr>\n      <th>3</th>\n      <td>LogLoss</td>\n      <td>5.888047</td>\n    </tr>\n  </tbody>\n</table>\n</div>"
          },
          "metadata": {}
        }
      ]
    },
    {
      "cell_type": "markdown",
      "source": "### SVM\n",
      "metadata": {}
    },
    {
      "cell_type": "markdown",
      "source": "#### Q16) Create and train a SVM model called SVM using the training data (`x_train`, `y_train`).\n",
      "metadata": {}
    },
    {
      "cell_type": "code",
      "source": "#Enter Your Code Below, Execute, and Save the Screenshot of the Final Output",
      "metadata": {},
      "execution_count": null,
      "outputs": []
    },
    {
      "cell_type": "code",
      "source": "from sklearn import svm\nSVM = svm.SVC(kernel='rbf')\nSVM.fit(x_train, y_train)",
      "metadata": {
        "trusted": true
      },
      "execution_count": 51,
      "outputs": [
        {
          "execution_count": 51,
          "output_type": "execute_result",
          "data": {
            "text/plain": "SVC()",
            "text/html": "<style>#sk-container-id-5 {color: black;background-color: white;}#sk-container-id-5 pre{padding: 0;}#sk-container-id-5 div.sk-toggleable {background-color: white;}#sk-container-id-5 label.sk-toggleable__label {cursor: pointer;display: block;width: 100%;margin-bottom: 0;padding: 0.3em;box-sizing: border-box;text-align: center;}#sk-container-id-5 label.sk-toggleable__label-arrow:before {content: \"▸\";float: left;margin-right: 0.25em;color: #696969;}#sk-container-id-5 label.sk-toggleable__label-arrow:hover:before {color: black;}#sk-container-id-5 div.sk-estimator:hover label.sk-toggleable__label-arrow:before {color: black;}#sk-container-id-5 div.sk-toggleable__content {max-height: 0;max-width: 0;overflow: hidden;text-align: left;background-color: #f0f8ff;}#sk-container-id-5 div.sk-toggleable__content pre {margin: 0.2em;color: black;border-radius: 0.25em;background-color: #f0f8ff;}#sk-container-id-5 input.sk-toggleable__control:checked~div.sk-toggleable__content {max-height: 200px;max-width: 100%;overflow: auto;}#sk-container-id-5 input.sk-toggleable__control:checked~label.sk-toggleable__label-arrow:before {content: \"▾\";}#sk-container-id-5 div.sk-estimator input.sk-toggleable__control:checked~label.sk-toggleable__label {background-color: #d4ebff;}#sk-container-id-5 div.sk-label input.sk-toggleable__control:checked~label.sk-toggleable__label {background-color: #d4ebff;}#sk-container-id-5 input.sk-hidden--visually {border: 0;clip: rect(1px 1px 1px 1px);clip: rect(1px, 1px, 1px, 1px);height: 1px;margin: -1px;overflow: hidden;padding: 0;position: absolute;width: 1px;}#sk-container-id-5 div.sk-estimator {font-family: monospace;background-color: #f0f8ff;border: 1px dotted black;border-radius: 0.25em;box-sizing: border-box;margin-bottom: 0.5em;}#sk-container-id-5 div.sk-estimator:hover {background-color: #d4ebff;}#sk-container-id-5 div.sk-parallel-item::after {content: \"\";width: 100%;border-bottom: 1px solid gray;flex-grow: 1;}#sk-container-id-5 div.sk-label:hover label.sk-toggleable__label {background-color: #d4ebff;}#sk-container-id-5 div.sk-serial::before {content: \"\";position: absolute;border-left: 1px solid gray;box-sizing: border-box;top: 0;bottom: 0;left: 50%;z-index: 0;}#sk-container-id-5 div.sk-serial {display: flex;flex-direction: column;align-items: center;background-color: white;padding-right: 0.2em;padding-left: 0.2em;position: relative;}#sk-container-id-5 div.sk-item {position: relative;z-index: 1;}#sk-container-id-5 div.sk-parallel {display: flex;align-items: stretch;justify-content: center;background-color: white;position: relative;}#sk-container-id-5 div.sk-item::before, #sk-container-id-5 div.sk-parallel-item::before {content: \"\";position: absolute;border-left: 1px solid gray;box-sizing: border-box;top: 0;bottom: 0;left: 50%;z-index: -1;}#sk-container-id-5 div.sk-parallel-item {display: flex;flex-direction: column;z-index: 1;position: relative;background-color: white;}#sk-container-id-5 div.sk-parallel-item:first-child::after {align-self: flex-end;width: 50%;}#sk-container-id-5 div.sk-parallel-item:last-child::after {align-self: flex-start;width: 50%;}#sk-container-id-5 div.sk-parallel-item:only-child::after {width: 0;}#sk-container-id-5 div.sk-dashed-wrapped {border: 1px dashed gray;margin: 0 0.4em 0.5em 0.4em;box-sizing: border-box;padding-bottom: 0.4em;background-color: white;}#sk-container-id-5 div.sk-label label {font-family: monospace;font-weight: bold;display: inline-block;line-height: 1.2em;}#sk-container-id-5 div.sk-label-container {text-align: center;}#sk-container-id-5 div.sk-container {/* jupyter's `normalize.less` sets `[hidden] { display: none; }` but bootstrap.min.css set `[hidden] { display: none !important; }` so we also need the `!important` here to be able to override the default hidden behavior on the sphinx rendered scikit-learn.org. See: https://github.com/scikit-learn/scikit-learn/issues/21755 */display: inline-block !important;position: relative;}#sk-container-id-5 div.sk-text-repr-fallback {display: none;}</style><div id=\"sk-container-id-5\" class=\"sk-top-container\"><div class=\"sk-text-repr-fallback\"><pre>SVC()</pre><b>In a Jupyter environment, please rerun this cell to show the HTML representation or trust the notebook. <br />On GitHub, the HTML representation is unable to render, please try loading this page with nbviewer.org.</b></div><div class=\"sk-container\" hidden><div class=\"sk-item\"><div class=\"sk-estimator sk-toggleable\"><input class=\"sk-toggleable__control sk-hidden--visually\" id=\"sk-estimator-id-5\" type=\"checkbox\" checked><label for=\"sk-estimator-id-5\" class=\"sk-toggleable__label sk-toggleable__label-arrow\">SVC</label><div class=\"sk-toggleable__content\"><pre>SVC()</pre></div></div></div></div></div>"
          },
          "metadata": {}
        }
      ]
    },
    {
      "cell_type": "markdown",
      "source": "#### Q17) Now use the `predict` method on the testing data (`x_test`) and save it to the array `predictions`.\n",
      "metadata": {}
    },
    {
      "cell_type": "code",
      "source": "#Enter Your Code Below, Execute, and Save the Screenshot of the Final Output",
      "metadata": {},
      "execution_count": null,
      "outputs": []
    },
    {
      "cell_type": "code",
      "source": "predictions = SVM.predict(x_test)\npredictions[:5]",
      "metadata": {
        "trusted": true
      },
      "execution_count": 53,
      "outputs": [
        {
          "execution_count": 53,
          "output_type": "execute_result",
          "data": {
            "text/plain": "array([0., 0., 0., 0., 0.])"
          },
          "metadata": {}
        }
      ]
    },
    {
      "cell_type": "markdown",
      "source": "#### Q18) Using the `predictions` and the `y_test` dataframe calculate the value for each metric using the appropriate function.\n",
      "metadata": {}
    },
    {
      "cell_type": "code",
      "source": "SVM_Accuracy_Score = metrics.accuracy_score(y_test, predictions)\nSVM_JaccardIndex = jaccard_score(y_test, predictions,pos_label=0)\nSVM_F1_Score = f1_score(y_test, predictions, pos_label=1, average='binary')\n\nReport_5 = {\"Metrics SVM\":[\"Accuracy\",\"JaccardIndex\",\"F1Score\"],\"Result\": \n[SVM_Accuracy_Score ,SVM_JaccardIndex, SVM_F1_Score]}\npd.DataFrame(Report_5)",
      "metadata": {
        "trusted": true
      },
      "execution_count": 54,
      "outputs": [
        {
          "execution_count": 54,
          "output_type": "execute_result",
          "data": {
            "text/plain": "    Metrics SVM    Result\n0      Accuracy  0.722137\n1  JaccardIndex  0.722137\n2       F1Score  0.000000",
            "text/html": "<div>\n<style scoped>\n    .dataframe tbody tr th:only-of-type {\n        vertical-align: middle;\n    }\n\n    .dataframe tbody tr th {\n        vertical-align: top;\n    }\n\n    .dataframe thead th {\n        text-align: right;\n    }\n</style>\n<table border=\"1\" class=\"dataframe\">\n  <thead>\n    <tr style=\"text-align: right;\">\n      <th></th>\n      <th>Metrics SVM</th>\n      <th>Result</th>\n    </tr>\n  </thead>\n  <tbody>\n    <tr>\n      <th>0</th>\n      <td>Accuracy</td>\n      <td>0.722137</td>\n    </tr>\n    <tr>\n      <th>1</th>\n      <td>JaccardIndex</td>\n      <td>0.722137</td>\n    </tr>\n    <tr>\n      <th>2</th>\n      <td>F1Score</td>\n      <td>0.000000</td>\n    </tr>\n  </tbody>\n</table>\n</div>"
          },
          "metadata": {}
        }
      ]
    },
    {
      "cell_type": "markdown",
      "source": "### Report\n",
      "metadata": {}
    },
    {
      "cell_type": "markdown",
      "source": "#### Q19) Show the Accuracy,Jaccard Index,F1-Score and LogLoss in a tabular format using data frame for all of the above models.\n\n\\*LogLoss is only for Logistic Regression Model\n",
      "metadata": {}
    },
    {
      "cell_type": "code",
      "source": "Report = {\"Total Metrics SVM\":[\"Accuracy\",\"JaccardIndex\",\"F1Score\",\"LogLoss\"],\"Result Metrics KNN\": \n[KNN_Accuracy_Score ,KNN_JaccardIndex,KNN_F1_Score,\"\"],\"Result Metrics Tree\":[Tree_Accuracy_Score ,Tree_JaccardIndex,Tree_F1_Score,\"\"], \"Result Metrics Logistic Reg\": [LR_Accuracy_Score ,LR_JaccardIndex, LR_F1_Score,LR_Log_Loss], \"Results Metrics SVM\":[SVM_Accuracy_Score ,SVM_JaccardIndex, SVM_F1_Score,\"\"]}\nfinal = pd.DataFrame(Report)\nfinal",
      "metadata": {
        "trusted": true
      },
      "execution_count": 56,
      "outputs": [
        {
          "execution_count": 56,
          "output_type": "execute_result",
          "data": {
            "text/plain": "  Total Metrics SVM Result Metrics KNN Result Metrics Tree  \\\n0          Accuracy           0.818321            0.752672   \n1      JaccardIndex           0.790123            0.704918   \n2           F1Score            0.59661            0.566845   \n3           LogLoss                                          \n\n   Result Metrics Logistic Reg Results Metrics SVM  \n0                     0.836641            0.722137  \n1                     0.803309            0.722137  \n2                     0.674772                 0.0  \n3                     5.888047                      ",
            "text/html": "<div>\n<style scoped>\n    .dataframe tbody tr th:only-of-type {\n        vertical-align: middle;\n    }\n\n    .dataframe tbody tr th {\n        vertical-align: top;\n    }\n\n    .dataframe thead th {\n        text-align: right;\n    }\n</style>\n<table border=\"1\" class=\"dataframe\">\n  <thead>\n    <tr style=\"text-align: right;\">\n      <th></th>\n      <th>Total Metrics SVM</th>\n      <th>Result Metrics KNN</th>\n      <th>Result Metrics Tree</th>\n      <th>Result Metrics Logistic Reg</th>\n      <th>Results Metrics SVM</th>\n    </tr>\n  </thead>\n  <tbody>\n    <tr>\n      <th>0</th>\n      <td>Accuracy</td>\n      <td>0.818321</td>\n      <td>0.752672</td>\n      <td>0.836641</td>\n      <td>0.722137</td>\n    </tr>\n    <tr>\n      <th>1</th>\n      <td>JaccardIndex</td>\n      <td>0.790123</td>\n      <td>0.704918</td>\n      <td>0.803309</td>\n      <td>0.722137</td>\n    </tr>\n    <tr>\n      <th>2</th>\n      <td>F1Score</td>\n      <td>0.59661</td>\n      <td>0.566845</td>\n      <td>0.674772</td>\n      <td>0.0</td>\n    </tr>\n    <tr>\n      <th>3</th>\n      <td>LogLoss</td>\n      <td></td>\n      <td></td>\n      <td>5.888047</td>\n      <td></td>\n    </tr>\n  </tbody>\n</table>\n</div>"
          },
          "metadata": {}
        }
      ]
    },
    {
      "cell_type": "markdown",
      "source": "<h2 id=\"Section_5\">  How to submit </h2>\n\n<p>Once you complete your notebook you will have to share it. You can download the notebook by navigating to \"File\" and clicking on \"Download\" button.\n\n<p>This will save the (.ipynb) file on your computer. Once saved, you can upload this file in the \"My Submission\" tab, of the \"Peer-graded Assignment\" section.  \n",
      "metadata": {}
    },
    {
      "cell_type": "markdown",
      "source": "<h2>About the Authors:</h2> \n\n<a href=\"https://www.linkedin.com/in/joseph-s-50398b136/?utm_medium=Exinfluencer&utm_source=Exinfluencer&utm_content=000026UJ&utm_term=10006555&utm_id=NA-SkillsNetwork-Channel-SkillsNetworkCoursesIBMDeveloperSkillsNetworkML0101ENSkillsNetwork20718538-2022-01-01\">Joseph Santarcangelo</a> has a PhD in Electrical Engineering, his research focused on using machine learning, signal processing, and computer vision to determine how videos impact human cognition. Joseph has been working for IBM since he completed his PhD.\n\n### Other Contributors\n\n[Svitlana Kramar](https://www.linkedin.com/in/svitlana-kramar/?utm_medium=Exinfluencer&utm_source=Exinfluencer&utm_content=000026UJ&utm_term=10006555&utm_id=NA-SkillsNetwork-Channel-SkillsNetworkCoursesIBMML0232ENSkillsNetwork30654641-2022-01-01)\n",
      "metadata": {}
    },
    {
      "cell_type": "markdown",
      "source": "## Change Log\n\n| Date (YYYY-MM-DD) | Version | Changed By    | Change Description          |\n| ----------------- | ------- | ------------- | --------------------------- |\n| 2022-06-22        | 2.0     | Svitlana K.   | Deleted GridSearch and Mock |\n\n## <h3 align=\"center\"> © IBM Corporation 2020. All rights reserved. <h3/>\n",
      "metadata": {}
    }
  ]
}